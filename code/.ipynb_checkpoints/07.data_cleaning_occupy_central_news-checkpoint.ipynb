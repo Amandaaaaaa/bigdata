{
 "cells": [
  {
   "cell_type": "markdown",
   "metadata": {
    "slideshow": {
     "slide_type": "slide"
    }
   },
   "source": [
    "***\n",
    "# 数据清洗：\n",
    "> # 对占中新闻进行数据清洗\n",
    "***\n",
    "***\n",
    "\n",
    "王成军\n",
    "\n",
    "wangchengjun@nju.edu.cn\n",
    "\n",
    "计算传播网 http://computational-communication.com"
   ]
  },
  {
   "cell_type": "code",
   "execution_count": 2,
   "metadata": {
    "ExecuteTime": {
     "end_time": "2018-04-24T07:19:31.223017Z",
     "start_time": "2018-04-24T07:19:31.205864Z"
    },
    "slideshow": {
     "slide_type": "slide"
    }
   },
   "outputs": [],
   "source": [
    "# 使用with open读取每一行数据\n",
    "with open(\"../data/occupycentral/zz-hk-2014-10.rtf\", encoding = 'gb18030') as f:\n",
    "    news = f.readlines()"
   ]
  },
  {
   "cell_type": "code",
   "execution_count": 3,
   "metadata": {
    "ExecuteTime": {
     "end_time": "2018-04-24T07:19:31.585890Z",
     "start_time": "2018-04-24T07:19:31.574013Z"
    },
    "slideshow": {
     "slide_type": "fragment"
    }
   },
   "outputs": [
    {
     "data": {
      "text/plain": [
       "16541"
      ]
     },
     "execution_count": 3,
     "metadata": {},
     "output_type": "execute_result"
    }
   ],
   "source": [
    "# 查看总共有多少行\n",
    "len(news)"
   ]
  },
  {
   "cell_type": "code",
   "execution_count": 4,
   "metadata": {
    "ExecuteTime": {
     "end_time": "2018-04-24T07:19:31.961562Z",
     "start_time": "2018-04-24T07:19:31.956671Z"
    },
    "slideshow": {
     "slide_type": "subslide"
    }
   },
   "outputs": [
    {
     "name": "stdout",
     "output_type": "stream",
     "text": [
      "~~~~~~~~~~~~~~~~~~~~~~~~~~  #1 ~~~~~~~~~~~~~~~~~~~~~~~~~~~ \\par\n",
      "\n",
      "am730 | 2014-10-31 \\par\n",
      "\n",
      "A16| NEWS| C观点| By 施永青 \\par \n",
      "\n",
      "\n",
      "\n",
      "法治有整合社会功能 \\par\n",
      "\n",
      "\\par\n",
      "\n",
      "~~~~~~~~~~~~~~~~~~~~~~~~~~~~~~~~~~~~~~~~~~~~~~~~~~~~~~~~~~ \\par\n",
      "\n"
     ]
    }
   ],
   "source": [
    "# 注意：标题和版面之间存在一个空行！所以title是block的第4个元素。\n",
    "for i in range(1, 8):\n",
    "    print(news[i])"
   ]
  },
  {
   "cell_type": "code",
   "execution_count": 5,
   "metadata": {
    "ExecuteTime": {
     "end_time": "2018-04-24T07:19:32.323541Z",
     "start_time": "2018-04-24T07:19:32.319728Z"
    },
    "slideshow": {
     "slide_type": "fragment"
    }
   },
   "outputs": [
    {
     "name": "stdout",
     "output_type": "stream",
     "text": [
      "\\par\\par 前文已介绍过塔尔科特·帕森斯的AGIL理论中的Adaptation(适应)与Goal Attainment(达标)的社会功能，今天续谈Integration(整合)的功能。人类社会是一个复杂系统，大系统内还有很多次系统，这些系统既独立，又牵连；既矛盾，又互适；有时互相促进，有时互相制约。正如一个人，既是社会的成员，又是公司的雇员；既是别人的儿子，又是朋辈中的「大哥」；其言行会同时受所处的不同系统所影响。\\par\\par 这些错综复杂的系统之间不可能没有冲突，为了避免社会因纠纷得不到恰当的处理而分崩离析，社会必须发展出一套整合矛盾的方式，这就需要有司法制度。\\par\\par 按帕森斯的说法，法治的基础是先要界定产权。这样才能避免因争夺资源而产生无休止的冲突。再者，交易亦需要在产权获得界定后才能进行。有交易才有市场，才能透过市场机制进行公平竞争，推动经济发展。\\par\\par 另一方面，社会亦需要为人权下定义，这样，政府才能在有认受性的情况下组成，才能有效地去处理公众事务。此外，社会还需要有一套合乎公义的会议程序，以决定如何汇聚众人的意愿。\\par\\par 有了这些基础之\n"
     ]
    }
   ],
   "source": [
    "# 需要对中文编码的对象使用中文的方式进行解码\n",
    "print(news[17][:500])"
   ]
  },
  {
   "cell_type": "code",
   "execution_count": 6,
   "metadata": {
    "ExecuteTime": {
     "end_time": "2018-04-24T07:19:32.690490Z",
     "start_time": "2018-04-24T07:19:32.684750Z"
    },
    "slideshow": {
     "slide_type": "slide"
    }
   },
   "outputs": [],
   "source": [
    "# 定义一个函数：实现解码、编码、清洗效果\n",
    "def stringclean(s):\n",
    "    #s = s.decode('gb18030').encode('utf8')\n",
    "    s = s.replace(r'\\loch\\af0\\hich\\af0\\dbch\\f15 \\b\\cf6 ', '')\n",
    "    s = s.replace(r'\\loch\\af0\\hich\\af0\\dbch\\f15 \\b0\\cf0 ', '')\n",
    "    s = s.replace('\\par', '').replace('\\n', '')\n",
    "    return s"
   ]
  },
  {
   "cell_type": "code",
   "execution_count": 7,
   "metadata": {
    "ExecuteTime": {
     "end_time": "2018-04-24T07:19:33.066529Z",
     "start_time": "2018-04-24T07:19:33.061566Z"
    },
    "slideshow": {
     "slide_type": "subslide"
    }
   },
   "outputs": [
    {
     "data": {
      "text/plain": [
       "'bbccaadd ee '"
      ]
     },
     "execution_count": 7,
     "metadata": {},
     "output_type": "execute_result"
    }
   ],
   "source": [
    "'aabbccaadd ee aa'.strip('a')  "
   ]
  },
  {
   "cell_type": "code",
   "execution_count": 8,
   "metadata": {
    "ExecuteTime": {
     "end_time": "2018-04-24T07:19:33.520137Z",
     "start_time": "2018-04-24T07:19:33.515943Z"
    },
    "slideshow": {
     "slide_type": "fragment"
    }
   },
   "outputs": [
    {
     "data": {
      "text/plain": [
       "'ccdd ee'"
      ]
     },
     "execution_count": 8,
     "metadata": {},
     "output_type": "execute_result"
    }
   ],
   "source": [
    "'aabbccdd ee'.strip('ab')"
   ]
  },
  {
   "cell_type": "code",
   "execution_count": 9,
   "metadata": {
    "ExecuteTime": {
     "end_time": "2018-04-24T07:19:33.929249Z",
     "start_time": "2018-04-24T07:19:33.925781Z"
    },
    "slideshow": {
     "slide_type": "fragment"
    }
   },
   "outputs": [
    {
     "data": {
      "text/plain": [
       "'abccdd ee'"
      ]
     },
     "execution_count": 9,
     "metadata": {},
     "output_type": "execute_result"
    }
   ],
   "source": [
    "'aabbccdd ee'.replace('ab', '')"
   ]
  },
  {
   "cell_type": "code",
   "execution_count": 10,
   "metadata": {
    "ExecuteTime": {
     "end_time": "2018-04-24T07:19:34.416918Z",
     "start_time": "2018-04-24T07:19:34.412606Z"
    },
    "slideshow": {
     "slide_type": "fragment"
    }
   },
   "outputs": [
    {
     "data": {
      "text/plain": [
       "' 前文已介绍过塔尔科特·帕森斯的AGIL理论中的Adaptation(适应)与Goal Attainment(达标)的社会功能，今天续谈Integration(整合)的功能。人类社会是一个复杂系统，大系统内还有很多次系统，这些系统既独立，又牵连；既矛盾，又互适；有时互相促进，有时互相制约。正如一个人，既是社会的成员，又是公司的雇员；既是别人的儿子，又是朋辈中的「大哥」；其言行会同时受所处的不同系统所影响。 这些错综复杂的系统之间不可能没有冲突，为了避免社会因纠纷得不到恰当的处理而分崩离析，社会必须发展出一套整合矛盾的方式，这就需要有司法制度。 按帕森斯的说法，法治的基础是先要界定产权。这样才能避免因争夺资源而产生无休止的冲突。再者，交易亦需要在产权获得界定后才能进行。有交易才有市场，才能透过市场机制进行公平竞争，推动经济发展。 另一方面，社会亦需要为人权下定义，这样，政府才能在有认受性的情况下组成，才能有效地去处理公众事务。此外，社会还需要有一套合乎公义的会议程序，以决定如何汇聚众人的意愿。 有了这些基础之后，社会就可以发展出一整套司法制度，让成员知所行止，令社会的矛盾不会恶化。 英国人为香港留下的，可不只是一套可以依据的律例，而是一整套法治的理念与司法程序。香港的回归能进行得相对平稳，与特区政府基本上原封不动地承继了原有的司法系统有莫大的关系。 回归后，虽有人危言耸听，说香港的法治已死，但世人仍公认香港的法治达国际一流水准，而港人亦可以如常在香港生活与做生意，不觉有失去法治的实质威胁。直到占中运动的出现，香港人才真正感受到失去法治的害处。 占中运动挑战的可不只是个别「恶法」，而是侵犯了整个法治的根基——产权、人权与政府的执法权。 占领区的物业，地契上列明有Right of way，但现在占领者却不容停车场的车辆出入。这分明损害了这些物业的产权。现在政府却无法加以维护；法庭出了禁制令，占中者却一样藐视。这样发展下去，谁敢在香港置业？ 其实，损害产权等同损害人权，因为人权的一项重要内容，就是个人的财产应获保障。此外，人人都应有追求幸福的权利，但现在占领区生意难做，怎会不妨碍别人追求幸福？ 占中者把自己的行为说成是公民抗命，但公民抗命只是个人行为在道德上的解释，用来拒绝遵守某些个人不认同的法令还讲得通，但绝不可以借此损害他人的产权与人权。 再者，占中者现时在争取的是宪政改革，本应获社会上绝大多数人赞同才有条件实施，不宜用占领交通要津的方式去逼其他人就范。如果祭起公民抗命的旗帜就可以欲所欲为，只会天下大乱，令法治失去协调与整合作用。 '"
      ]
     },
     "execution_count": 10,
     "metadata": {},
     "output_type": "execute_result"
    }
   ],
   "source": [
    "# 调用stringclean函数\n",
    "stringclean(news[17]) "
   ]
  },
  {
   "cell_type": "code",
   "execution_count": 11,
   "metadata": {
    "ExecuteTime": {
     "end_time": "2018-04-24T07:19:34.909205Z",
     "start_time": "2018-04-24T07:19:34.875825Z"
    },
    "slideshow": {
     "slide_type": "subslide"
    }
   },
   "outputs": [
    {
     "data": {
      "text/plain": [
       "16541"
      ]
     },
     "execution_count": 11,
     "metadata": {},
     "output_type": "execute_result"
    }
   ],
   "source": [
    "# 列表内的for循环\n",
    "news_clean = [stringclean(n) for n in news]\n",
    "len(news_clean)"
   ]
  },
  {
   "cell_type": "code",
   "execution_count": 12,
   "metadata": {
    "ExecuteTime": {
     "end_time": "2018-04-24T07:19:35.321631Z",
     "start_time": "2018-04-24T07:19:35.317126Z"
    },
    "slideshow": {
     "slide_type": "fragment"
    }
   },
   "outputs": [
    {
     "data": {
      "text/plain": [
       "' 前文已介绍过塔尔科特·帕森斯的AGIL理论中的Adaptation(适应)与Goal Attainment(达标)的社会功能，今天续谈Integration(整合)的功能。人类社会是一个复杂系统，大系统内还有很多次系统，这些系统既独立，又'"
      ]
     },
     "execution_count": 12,
     "metadata": {},
     "output_type": "execute_result"
    }
   ],
   "source": [
    "news_clean[17][:120]"
   ]
  },
  {
   "cell_type": "code",
   "execution_count": 13,
   "metadata": {
    "ExecuteTime": {
     "end_time": "2018-04-24T07:19:35.773454Z",
     "start_time": "2018-04-24T07:19:35.765242Z"
    },
    "slideshow": {
     "slide_type": "slide"
    }
   },
   "outputs": [],
   "source": [
    "# 定义两个函数\n",
    "\n",
    "def deletetab(s):\n",
    "    return s.replace('\\t', '')\n",
    "\n",
    "\n",
    "import sys\n",
    "def flushPrint(s):\n",
    "    sys.stdout.write('\\r')\n",
    "    sys.stdout.write('%s' % s)\n",
    "    sys.stdout.flush() # 清洗掉 "
   ]
  },
  {
   "cell_type": "code",
   "execution_count": 14,
   "metadata": {
    "ExecuteTime": {
     "end_time": "2018-04-24T07:19:36.191485Z",
     "start_time": "2018-04-24T07:19:36.181770Z"
    },
    "slideshow": {
     "slide_type": "subslide"
    }
   },
   "outputs": [
    {
     "name": "stdout",
     "output_type": "stream",
     "text": [
      "Help on OutStream in module ipykernel.iostream object:\n",
      "\n",
      "class OutStream(io.TextIOBase)\n",
      " |  A file like object that publishes the stream to a 0MQ PUB socket.\n",
      " |  \n",
      " |  Output is handed off to an IO Thread\n",
      " |  \n",
      " |  Method resolution order:\n",
      " |      OutStream\n",
      " |      io.TextIOBase\n",
      " |      _io._TextIOBase\n",
      " |      io.IOBase\n",
      " |      _io._IOBase\n",
      " |      builtins.object\n",
      " |  \n",
      " |  Methods defined here:\n",
      " |  \n",
      " |  __init__(self, session, pub_thread, name, pipe=None)\n",
      " |      Initialize self.  See help(type(self)) for accurate signature.\n",
      " |  \n",
      " |  close(self)\n",
      " |      Flush and close the IO object.\n",
      " |      \n",
      " |      This method has no effect if the file is already closed.\n",
      " |  \n",
      " |  flush(self)\n",
      " |      trigger actual zmq send\n",
      " |      \n",
      " |      send will happen in the background thread\n",
      " |  \n",
      " |  set_parent(self, parent)\n",
      " |  \n",
      " |  write(self, string)\n",
      " |      Write string to stream.\n",
      " |      Returns the number of characters written (which is always equal to\n",
      " |      the length of the string).\n",
      " |  \n",
      " |  writelines(self, sequence)\n",
      " |  \n",
      " |  ----------------------------------------------------------------------\n",
      " |  Data descriptors defined here:\n",
      " |  \n",
      " |  closed\n",
      " |  \n",
      " |  ----------------------------------------------------------------------\n",
      " |  Data and other attributes defined here:\n",
      " |  \n",
      " |  __abstractmethods__ = frozenset()\n",
      " |  \n",
      " |  encoding = 'UTF-8'\n",
      " |  \n",
      " |  flush_interval = 0.2\n",
      " |  \n",
      " |  flush_timeout = 10\n",
      " |  \n",
      " |  topic = None\n",
      " |  \n",
      " |  ----------------------------------------------------------------------\n",
      " |  Methods inherited from _io._TextIOBase:\n",
      " |  \n",
      " |  detach(...)\n",
      " |      Separate the underlying buffer from the TextIOBase and return it.\n",
      " |      \n",
      " |      After the underlying buffer has been detached, the TextIO is in an\n",
      " |      unusable state.\n",
      " |  \n",
      " |  read(...)\n",
      " |      Read at most n characters from stream.\n",
      " |      \n",
      " |      Read from underlying buffer until we have n characters or we hit EOF.\n",
      " |      If n is negative or omitted, read until EOF.\n",
      " |  \n",
      " |  readline(...)\n",
      " |      Read until newline or EOF.\n",
      " |      \n",
      " |      Returns an empty string if EOF is hit immediately.\n",
      " |  \n",
      " |  ----------------------------------------------------------------------\n",
      " |  Data descriptors inherited from _io._TextIOBase:\n",
      " |  \n",
      " |  errors\n",
      " |      The error setting of the decoder or encoder.\n",
      " |      \n",
      " |      Subclasses should override.\n",
      " |  \n",
      " |  newlines\n",
      " |      Line endings translated so far.\n",
      " |      \n",
      " |      Only line endings translated during reading are considered.\n",
      " |      \n",
      " |      Subclasses should override.\n",
      " |  \n",
      " |  ----------------------------------------------------------------------\n",
      " |  Methods inherited from _io._IOBase:\n",
      " |  \n",
      " |  __del__(...)\n",
      " |  \n",
      " |  __enter__(...)\n",
      " |  \n",
      " |  __exit__(...)\n",
      " |  \n",
      " |  __iter__(self, /)\n",
      " |      Implement iter(self).\n",
      " |  \n",
      " |  __new__(*args, **kwargs) from builtins.type\n",
      " |      Create and return a new object.  See help(type) for accurate signature.\n",
      " |  \n",
      " |  __next__(self, /)\n",
      " |      Implement next(self).\n",
      " |  \n",
      " |  fileno(self, /)\n",
      " |      Returns underlying file descriptor if one exists.\n",
      " |      \n",
      " |      OSError is raised if the IO object does not use a file descriptor.\n",
      " |  \n",
      " |  isatty(self, /)\n",
      " |      Return whether this is an 'interactive' stream.\n",
      " |      \n",
      " |      Return False if it can't be determined.\n",
      " |  \n",
      " |  readable(self, /)\n",
      " |      Return whether object was opened for reading.\n",
      " |      \n",
      " |      If False, read() will raise OSError.\n",
      " |  \n",
      " |  readlines(self, hint=-1, /)\n",
      " |      Return a list of lines from the stream.\n",
      " |      \n",
      " |      hint can be specified to control the number of lines read: no more\n",
      " |      lines will be read if the total size (in bytes/characters) of all\n",
      " |      lines so far exceeds hint.\n",
      " |  \n",
      " |  seek(...)\n",
      " |      Change stream position.\n",
      " |      \n",
      " |      Change the stream position to the given byte offset. The offset is\n",
      " |      interpreted relative to the position indicated by whence.  Values\n",
      " |      for whence are:\n",
      " |      \n",
      " |      * 0 -- start of stream (the default); offset should be zero or positive\n",
      " |      * 1 -- current stream position; offset may be negative\n",
      " |      * 2 -- end of stream; offset is usually negative\n",
      " |      \n",
      " |      Return the new absolute position.\n",
      " |  \n",
      " |  seekable(self, /)\n",
      " |      Return whether object supports random access.\n",
      " |      \n",
      " |      If False, seek(), tell() and truncate() will raise OSError.\n",
      " |      This method may need to do a test seek().\n",
      " |  \n",
      " |  tell(self, /)\n",
      " |      Return current stream position.\n",
      " |  \n",
      " |  truncate(...)\n",
      " |      Truncate file to size bytes.\n",
      " |      \n",
      " |      File pointer is left unchanged.  Size defaults to the current IO\n",
      " |      position as reported by tell().  Returns the new size.\n",
      " |  \n",
      " |  writable(self, /)\n",
      " |      Return whether object was opened for writing.\n",
      " |      \n",
      " |      If False, write() will raise OSError.\n",
      " |  \n",
      " |  ----------------------------------------------------------------------\n",
      " |  Data descriptors inherited from _io._IOBase:\n",
      " |  \n",
      " |  __dict__\n",
      "\n"
     ]
    }
   ],
   "source": [
    "help(sys.stdout)"
   ]
  },
  {
   "cell_type": "code",
   "execution_count": 15,
   "metadata": {
    "ExecuteTime": {
     "end_time": "2018-04-24T07:19:36.601492Z",
     "start_time": "2018-04-24T07:19:36.596915Z"
    },
    "slideshow": {
     "slide_type": "subslide"
    }
   },
   "outputs": [
    {
     "data": {
      "text/plain": [
       "'a'"
      ]
     },
     "execution_count": 15,
     "metadata": {},
     "output_type": "execute_result"
    }
   ],
   "source": [
    "# 调用deletetab\n",
    "deletetab('\\ta')"
   ]
  },
  {
   "cell_type": "code",
   "execution_count": 16,
   "metadata": {
    "ExecuteTime": {
     "end_time": "2018-04-24T07:19:42.520630Z",
     "start_time": "2018-04-24T07:19:37.052718Z"
    },
    "slideshow": {
     "slide_type": "fragment"
    }
   },
   "outputs": [
    {
     "name": "stdout",
     "output_type": "stream",
     "text": [
      "9"
     ]
    }
   ],
   "source": [
    "# 演示：flushPrint\n",
    "import time, random\n",
    "for i in range(10):\n",
    "    time.sleep(random.random())\n",
    "    flushPrint(i) "
   ]
  },
  {
   "cell_type": "code",
   "execution_count": 17,
   "metadata": {
    "ExecuteTime": {
     "end_time": "2018-04-24T07:19:42.573525Z",
     "start_time": "2018-04-24T07:19:42.523379Z"
    },
    "slideshow": {
     "slide_type": "slide"
    }
   },
   "outputs": [],
   "source": [
    "from collections import defaultdict\n",
    "\n",
    "def readblocks(data):\n",
    "    copy = False\n",
    "    n = 0\n",
    "    block = []\n",
    "    chunk = defaultdict(lambda:[])\n",
    "    for i in data:\n",
    "        try:\n",
    "            if \"~~~~~~~~~~~~~~~~~~~~~~~~~~  #\" in i:\n",
    "                copy = True\n",
    "            elif \"文章编号:\" in i:\n",
    "                ids = i.replace('文章编号: ', '')\n",
    "                source = block[0].split('|')[0]\n",
    "                info = block[1]\n",
    "                title = deletetab(block[3]) # \n",
    "                body = [j for j in block[6:] if j != '\\n']\n",
    "                body = ' '.join(body)\n",
    "                body = deletetab(body)\n",
    "                body = '\"' + body  + '\"'\n",
    "                line = '\\t'.join([ids, source, info, title, body])\n",
    "                chunk[ids] = line\n",
    "                block = []\n",
    "                n += 1\n",
    "                if n%10 == 0:\n",
    "                    flushPrint(n)\n",
    "                copy = False\n",
    "            # copy must be here.\n",
    "            elif copy:\n",
    "                block.append(i)\n",
    "        except Exception as e:\n",
    "            print(i, e)\n",
    "            pass\n",
    "    return chunk"
   ]
  },
  {
   "cell_type": "code",
   "execution_count": 18,
   "metadata": {
    "ExecuteTime": {
     "end_time": "2018-04-24T07:19:42.580320Z",
     "start_time": "2018-04-24T07:19:42.575848Z"
    },
    "slideshow": {
     "slide_type": "subslide"
    }
   },
   "outputs": [
    {
     "name": "stdout",
     "output_type": "stream",
     "text": [
      "~~~~~~~~~~~~~~~~~~~~~~~~~~  #1 ~~~~~~~~~~~~~~~~~~~~~~~~~~~ \\par\n",
      "\n",
      "am730 | 2014-10-31 \\par\n",
      "\n",
      "A16| NEWS| C观点| By 施永青 \\par \n",
      "\n",
      "\n",
      "\n",
      "法治有整合社会功能 \\par\n",
      "\n",
      "\\par\n",
      "\n",
      "~~~~~~~~~~~~~~~~~~~~~~~~~~~~~~~~~~~~~~~~~~~~~~~~~~~~~~~~~~ \\par\n",
      "\n"
     ]
    }
   ],
   "source": [
    "# 注意：标题和版面之间存在一个空行！所以title是block的第4个元素。\n",
    "for i in range(1, 8):\n",
    "    print(news[i][:500])"
   ]
  },
  {
   "cell_type": "code",
   "execution_count": 19,
   "metadata": {
    "ExecuteTime": {
     "end_time": "2018-04-24T07:19:42.645460Z",
     "start_time": "2018-04-24T07:19:42.582707Z"
    },
    "slideshow": {
     "slide_type": "slide"
    }
   },
   "outputs": [
    {
     "name": "stdout",
     "output_type": "stream",
     "text": [
      "710"
     ]
    }
   ],
   "source": [
    "# 按block清洗新闻报道\n",
    "news_result = readblocks(news_clean) "
   ]
  },
  {
   "cell_type": "code",
   "execution_count": 20,
   "metadata": {
    "ExecuteTime": {
     "end_time": "2018-04-24T07:19:42.655851Z",
     "start_time": "2018-04-24T07:19:42.651464Z"
    },
    "slideshow": {
     "slide_type": "fragment"
    }
   },
   "outputs": [
    {
     "data": {
      "text/plain": [
       "719"
      ]
     },
     "execution_count": 20,
     "metadata": {},
     "output_type": "execute_result"
    }
   ],
   "source": [
    "# 新闻的数量\n",
    "len(news_result)"
   ]
  },
  {
   "cell_type": "code",
   "execution_count": 21,
   "metadata": {
    "ExecuteTime": {
     "end_time": "2018-04-24T07:19:42.662382Z",
     "start_time": "2018-04-24T07:19:42.658152Z"
    },
    "slideshow": {
     "slide_type": "fragment"
    }
   },
   "outputs": [
    {
     "data": {
      "text/plain": [
       "['201410060040171 ',\n",
       " '201410200320121 ',\n",
       " '201410090010106 ',\n",
       " '201410180340102 ',\n",
       " '201410290290081 ']"
      ]
     },
     "execution_count": 21,
     "metadata": {},
     "output_type": "execute_result"
    }
   ],
   "source": [
    "# 查看字典的keys\n",
    "list(news_result.keys())[:5]"
   ]
  },
  {
   "cell_type": "code",
   "execution_count": 22,
   "metadata": {
    "ExecuteTime": {
     "end_time": "2018-04-24T07:19:44.106592Z",
     "start_time": "2018-04-24T07:19:44.101540Z"
    },
    "slideshow": {
     "slide_type": "subslide"
    }
   },
   "outputs": [
    {
     "data": {
      "text/plain": [
       "'201410309997475 \\t慧科专讯 \\t \\tMore than 30% of HK-based enterprises set to expand in 2015 \\t\"          It is widely held that the Occupy Central movement and slackening retail market will impact HK’s economy significantly. However, according to a survey on HK’s business environment conducted by American Express from 4 Aug to 5 Sept this year, 32% of HK-based enterprises will continue to increase headcounts to expand business in the coming 12 months though the city is shrouded with economic and political uncertainties. Jacinta Sheahan, Vice President and General Manager for Hong Kong and Taiwan Global Corporate Payments at American Express International Inc., said although HK economy keeps steady, local firms are still encouraged by the economic outlook in the mainland and the United States.    \"'"
      ]
     },
     "execution_count": 22,
     "metadata": {},
     "output_type": "execute_result"
    }
   ],
   "source": [
    "# 查看字典的values\n",
    "list(news_result.values())[10]"
   ]
  },
  {
   "cell_type": "code",
   "execution_count": 23,
   "metadata": {
    "ExecuteTime": {
     "end_time": "2018-04-24T07:19:46.131290Z",
     "start_time": "2018-04-24T07:19:45.605029Z"
    },
    "scrolled": true,
    "slideshow": {
     "slide_type": "slide"
    }
   },
   "outputs": [
    {
     "data": {
      "text/html": [
       "<div>\n",
       "<table border=\"1\" class=\"dataframe\">\n",
       "  <thead>\n",
       "    <tr style=\"text-align: right;\">\n",
       "      <th></th>\n",
       "      <th>ids</th>\n",
       "      <th>source</th>\n",
       "      <th>info</th>\n",
       "      <th>title</th>\n",
       "      <th>body</th>\n",
       "    </tr>\n",
       "  </thead>\n",
       "  <tbody>\n",
       "    <tr>\n",
       "      <th>0</th>\n",
       "      <td>201410060040171</td>\n",
       "      <td>明报</td>\n",
       "      <td>A23| 国际| 主编推介</td>\n",
       "      <td>千禧世代 求变新世代动摇旧秩序</td>\n",
       "      <td>\"          千禧世代又名「Ｙ世代」，支持「世代之争」论的学者认为，这个世代对传统的...</td>\n",
       "    </tr>\n",
       "    <tr>\n",
       "      <th>1</th>\n",
       "      <td>201410200320121</td>\n",
       "      <td>东方日报</td>\n",
       "      <td>A06| 港闻</td>\n",
       "      <td>信用卡消费大幅下跌</td>\n",
       "      <td>\"          【本报讯】多名港府高官昨齐齐发声，批评占领行动对本港经济、劳工及医疗系...</td>\n",
       "    </tr>\n",
       "    <tr>\n",
       "      <th>2</th>\n",
       "      <td>201410090010106</td>\n",
       "      <td>香港商报</td>\n",
       "      <td>A20| 维港穿梭</td>\n",
       "      <td>环保废料再造业欢贺国庆</td>\n",
       "      <td>\"          【香港商报讯】记者陈文华报道：香港环保废料再造业总会本月3日假观塘尚宴...</td>\n",
       "    </tr>\n",
       "  </tbody>\n",
       "</table>\n",
       "</div>"
      ],
      "text/plain": [
       "                ids source             info             title  \\\n",
       "0  201410060040171     明报   A23| 国际| 主编推介    千禧世代 求变新世代动摇旧秩序    \n",
       "1  201410200320121   东方日报         A06| 港闻          信用卡消费大幅下跌    \n",
       "2  201410090010106   香港商报       A20| 维港穿梭        环保废料再造业欢贺国庆    \n",
       "\n",
       "                                                body  \n",
       "0  \"          千禧世代又名「Ｙ世代」，支持「世代之争」论的学者认为，这个世代对传统的...  \n",
       "1  \"          【本报讯】多名港府高官昨齐齐发声，批评占领行动对本港经济、劳工及医疗系...  \n",
       "2  \"          【香港商报讯】记者陈文华报道：香港环保废料再造业总会本月3日假观塘尚宴...  "
      ]
     },
     "execution_count": 23,
     "metadata": {},
     "output_type": "execute_result"
    }
   ],
   "source": [
    "import pandas as pd\n",
    "news_list = [i.split('\\t') for i in news_result.values()]\n",
    "df_news = pd.DataFrame(news_list,\n",
    "                       columns= ['ids', 'source',\\\n",
    "                                 'info', 'title', 'body'])\n",
    "df_news.head(3)"
   ]
  },
  {
   "cell_type": "code",
   "execution_count": 24,
   "metadata": {
    "ExecuteTime": {
     "end_time": "2018-04-24T07:19:54.085577Z",
     "start_time": "2018-04-24T07:19:54.076753Z"
    },
    "slideshow": {
     "slide_type": "slide"
    }
   },
   "outputs": [],
   "source": [
    "# 保存数据：将数据写入硬盘\n",
    "with open('../data/zz-hk-2014-9-clean.txt','a') as p:\n",
    "     for record in news_result.values():\n",
    "            p.write(record+\"\\n\")"
   ]
  },
  {
   "cell_type": "code",
   "execution_count": 25,
   "metadata": {
    "ExecuteTime": {
     "end_time": "2018-04-24T07:20:01.178337Z",
     "start_time": "2018-04-24T07:20:01.135267Z"
    },
    "slideshow": {
     "slide_type": "subslide"
    }
   },
   "outputs": [
    {
     "data": {
      "text/html": [
       "<div>\n",
       "<table border=\"1\" class=\"dataframe\">\n",
       "  <thead>\n",
       "    <tr style=\"text-align: right;\">\n",
       "      <th></th>\n",
       "      <th>0</th>\n",
       "      <th>1</th>\n",
       "      <th>2</th>\n",
       "      <th>3</th>\n",
       "      <th>4</th>\n",
       "    </tr>\n",
       "  </thead>\n",
       "  <tbody>\n",
       "    <tr>\n",
       "      <th>0</th>\n",
       "      <td>201410270010051</td>\n",
       "      <td>香港商报</td>\n",
       "      <td>A09| 投资分析| 论尽华尔街| By 林家亨</td>\n",
       "      <td>美股波幅 系国会中期选举</td>\n",
       "      <td>近两周来美股大上大落，道指随时升跌200点以上，伴随的消息多是与近期的美...</td>\n",
       "    </tr>\n",
       "    <tr>\n",
       "      <th>1</th>\n",
       "      <td>201410189841567</td>\n",
       "      <td>经济一周</td>\n",
       "      <td>P043-052| 封面故事| By 张健华、叶创成</td>\n",
       "      <td>千点调整下 网民8大疑团专家拆解</td>\n",
       "      <td>5月中的反弹浪至今，港股一直守在50天线之上。惟大市于9月15日跌穿50...</td>\n",
       "    </tr>\n",
       "    <tr>\n",
       "      <th>2</th>\n",
       "      <td>201410225301374</td>\n",
       "      <td>am730</td>\n",
       "      <td>A37| INVEST| 免费早餐| By 徐家健</td>\n",
       "      <td>边种法治最紧要？</td>\n",
       "      <td>曾以为栋笃男神金句「搵食啫，犯法呀？ 」是博物馆级东西，怎知一个占领运动...</td>\n",
       "    </tr>\n",
       "  </tbody>\n",
       "</table>\n",
       "</div>"
      ],
      "text/plain": [
       "                 0       1                             2                  3  \\\n",
       "0  201410270010051   香港商报     A09| 投资分析| 论尽华尔街| By 林家亨        美股波幅 系国会中期选举    \n",
       "1  201410189841567   经济一周   P043-052| 封面故事| By 张健华、叶创成    千点调整下 网民8大疑团专家拆解    \n",
       "2  201410225301374  am730    A37| INVEST| 免费早餐| By 徐家健            边种法治最紧要？    \n",
       "\n",
       "                                                   4  \n",
       "0            近两周来美股大上大落，道指随时升跌200点以上，伴随的消息多是与近期的美...  \n",
       "1            5月中的反弹浪至今，港股一直守在50天线之上。惟大市于9月15日跌穿50...  \n",
       "2            曾以为栋笃男神金句「搵食啫，犯法呀？ 」是博物馆级东西，怎知一个占领运动...  "
      ]
     },
     "execution_count": 25,
     "metadata": {},
     "output_type": "execute_result"
    }
   ],
   "source": [
    "# 使用pandas读取数据，并查看。\n",
    "import pandas as pd\n",
    "df = pd.read_csv( '../data/zz-hk-2014-9-clean.txt', \n",
    "                 sep = \"\\t\", header = None)#, \n",
    "                 #header=['ids', 'source','info', 'title', 'body'])\n",
    "df[:3]"
   ]
  },
  {
   "cell_type": "code",
   "execution_count": 26,
   "metadata": {
    "ExecuteTime": {
     "end_time": "2018-04-24T07:22:32.293068Z",
     "start_time": "2018-04-24T07:22:32.286733Z"
    },
    "slideshow": {
     "slide_type": "slide"
    }
   },
   "outputs": [
    {
     "data": {
      "text/plain": [
       "['zz-hk-2014-10.rtf', 'zz-hk-2014-9.rtf']"
      ]
     },
     "execution_count": 26,
     "metadata": {},
     "output_type": "execute_result"
    }
   ],
   "source": [
    "# 使用os改变默认的工作路径\n",
    "import os\n",
    "os.chdir('../data/occupycentral/')\n",
    "# 使用glob读取某一类文件的所有名称\n",
    "import glob\n",
    "filenames = glob.glob('*.rtf')\n",
    "filenames"
   ]
  },
  {
   "cell_type": "code",
   "execution_count": 30,
   "metadata": {
    "ExecuteTime": {
     "end_time": "2018-04-24T07:25:01.474103Z",
     "start_time": "2018-04-24T07:25:01.252025Z"
    },
    "slideshow": {
     "slide_type": "fragment"
    }
   },
   "outputs": [
    {
     "name": "stdout",
     "output_type": "stream",
     "text": [
      "zz-hk-2014-10.rtf\n",
      "710zz-hk-2014-9.rtf\n",
      "410"
     ]
    }
   ],
   "source": [
    "for i in filenames:\n",
    "    print(i)\n",
    "    with open(i, encoding = 'gb18030') as f: \n",
    "        news = f.readlines()\n",
    "        news = [stringclean(n) for n in news]\n",
    "        news_result = readblocks(news)\n",
    "        with open('../zz-hk-all-clean2018.txt','a') as p:\n",
    "            for record in news_result.values():\n",
    "                p.write(record+\"\\n\")"
   ]
  },
  {
   "cell_type": "markdown",
   "metadata": {
    "slideshow": {
     "slide_type": "slide"
    }
   },
   "source": [
    "# This is the End.\n",
    "> Thank you for your attention."
   ]
  }
 ],
 "metadata": {
  "celltoolbar": "Slideshow",
  "kernelspec": {
   "display_name": "Python [conda env:anaconda]",
   "language": "python",
   "name": "conda-env-anaconda-py"
  },
  "language_info": {
   "codemirror_mode": {
    "name": "ipython",
    "version": 3
   },
   "file_extension": ".py",
   "mimetype": "text/x-python",
   "name": "python",
   "nbconvert_exporter": "python",
   "pygments_lexer": "ipython3",
   "version": "3.5.4"
  },
  "latex_envs": {
   "bibliofile": "biblio.bib",
   "cite_by": "apalike",
   "current_citInitial": 1,
   "eqLabelWithNumbers": true,
   "eqNumInitial": 0
  },
  "toc": {
   "base_numbering": 1,
   "nav_menu": {},
   "number_sections": false,
   "sideBar": false,
   "skip_h1_title": false,
   "title_cell": "Table of Contents",
   "title_sidebar": "Contents",
   "toc_cell": false,
   "toc_position": {
    "height": "48px",
    "left": "1374px",
    "top": "44.375px",
    "width": "226px"
   },
   "toc_section_display": false,
   "toc_window_display": true
  }
 },
 "nbformat": 4,
 "nbformat_minor": 1
}
