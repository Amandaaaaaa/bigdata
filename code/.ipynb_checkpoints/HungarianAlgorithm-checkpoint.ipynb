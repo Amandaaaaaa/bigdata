{
 "cells": [
  {
   "cell_type": "markdown",
   "metadata": {},
   "source": [
    "# Hungarian algorithm\n",
    "The Hungarian method is a combinatorial optimization algorithm that solves the assignment problem in polynomial time and which anticipated later primal-dual methods. It was developed and published in 1955 by Harold Kuhn, who gave the name \"Hungarian method\" because the algorithm was largely based on the earlier works of two Hungarian mathematicians: Dénes Kőnig and Jenő Egerváry.\n",
    "\n",
    "- Harold W. Kuhn, \"The Hungarian Method for the assignment problem\", Naval Research Logistics Quarterly, 2: 83–97, 1955. Kuhn's original publication.\n",
    "- Harold W. Kuhn, \"Variants of the Hungarian method for assignment problems\", Naval Research Logistics Quarterly, 3: 253–258, 1956.\n",
    "\n",
    "https://en.wikipedia.org/wiki/Hungarian_algorithm"
   ]
  },
  {
   "cell_type": "markdown",
   "metadata": {},
   "source": [
    "James Munkres reviewed the algorithm in 1957 and observed that it is (strongly) polynomial.[3] Since then the algorithm has been known also as the Kuhn–Munkres algorithm or Munkres assignment algorithm. \n",
    "\n",
    "The Munkres module provides an implementation of the Munkres algorithm (also called the Hungarian algorithm or the Kuhn-Munkres algorithm), useful for solving the Assignment Problem.\n",
    "\n",
    "https://pypi.python.org/pypi/munkres/1.0.5.4"
   ]
  },
  {
   "cell_type": "markdown",
   "metadata": {},
   "source": [
    "https://github.com/bmc/munkres/blob/master/munkres.py"
   ]
  },
  {
   "cell_type": "code",
   "execution_count": 46,
   "metadata": {},
   "outputs": [],
   "source": [
    "from munkres import Munkres, make_cost_matrix, print_matrix"
   ]
  },
  {
   "cell_type": "code",
   "execution_count": 43,
   "metadata": {},
   "outputs": [
    {
     "name": "stdout",
     "output_type": "stream",
     "text": [
      "Profit Matrix\n",
      "[12,  4,  2]\n",
      "[ 8,  7,  6]\n",
      "[ 7,  5,  2]\n"
     ]
    }
   ],
   "source": [
    "matrix = [[12, 4, 2],\n",
    "          [8, 7, 6],\n",
    "          [7, 5, 2]]\n",
    "print_matrix(matrix, msg='Profit Matrix')"
   ]
  },
  {
   "cell_type": "code",
   "execution_count": 44,
   "metadata": {},
   "outputs": [
    {
     "name": "stdout",
     "output_type": "stream",
     "text": [
      "Cost Matrix\n",
      "[ 0,  8, 10]\n",
      "[ 4,  5,  6]\n",
      "[ 5,  7, 10]\n"
     ]
    }
   ],
   "source": [
    "cost_matrix = make_cost_matrix(matrix)\n",
    "print_matrix(cost_matrix, msg='Cost Matrix')"
   ]
  },
  {
   "cell_type": "code",
   "execution_count": 45,
   "metadata": {},
   "outputs": [
    {
     "name": "stdout",
     "output_type": "stream",
     "text": [
      "(0, 0) -> 12\n",
      "(1, 2) -> 6\n",
      "(2, 1) -> 5\n",
      "Total profit=23\n"
     ]
    }
   ],
   "source": [
    "m = Munkres()\n",
    "indexes = m.compute(cost_matrix)\n",
    "\n",
    "total = 0\n",
    "for row, column in indexes:\n",
    "    value = matrix[row][column]\n",
    "    total += value\n",
    "    print('(%d, %d) -> %d' % (row, column, value))\n",
    "\n",
    "print('Total profit=%d' % total)"
   ]
  },
  {
   "cell_type": "code",
   "execution_count": null,
   "metadata": {},
   "outputs": [],
   "source": []
  }
 ],
 "metadata": {
  "kernelspec": {
   "display_name": "Python [conda root]",
   "language": "python",
   "name": "conda-root-py"
  },
  "language_info": {
   "codemirror_mode": {
    "name": "ipython",
    "version": 3
   },
   "file_extension": ".py",
   "mimetype": "text/x-python",
   "name": "python",
   "nbconvert_exporter": "python",
   "pygments_lexer": "ipython3",
   "version": "3.5.2"
  }
 },
 "nbformat": 4,
 "nbformat_minor": 2
}
