{
 "cells": [
  {
   "cell_type": "markdown",
   "metadata": {
    "slideshow": {
     "slide_type": "slide"
    }
   },
   "source": [
    "***\n",
    "# 数据抓取：\n",
    "\n",
    "> # 使用Python编写网络爬虫\n",
    "***\n",
    "\n",
    "王成军\n",
    "\n",
    "wangchengjun@nju.edu.cn\n",
    "\n",
    "计算传播网 http://computational-communication.com"
   ]
  },
  {
   "cell_type": "markdown",
   "metadata": {
    "slideshow": {
     "slide_type": "slide"
    }
   },
   "source": [
    "# 需要解决的问题 \n",
    "\n",
    "- 页面解析\n",
    "- 获取Javascript隐藏源数据\n",
    "- 自动翻页\n",
    "- 自动登录\n",
    "- 连接API接口\n"
   ]
  },
  {
   "cell_type": "code",
   "execution_count": 1,
   "metadata": {
    "ExecuteTime": {
     "end_time": "2017-05-13T14:36:08.727461",
     "start_time": "2017-05-13T14:36:08.644814"
    },
    "collapsed": true,
    "slideshow": {
     "slide_type": "slide"
    }
   },
   "outputs": [],
   "source": [
    "import urllib2\n",
    "from bs4 import BeautifulSoup"
   ]
  },
  {
   "cell_type": "markdown",
   "metadata": {
    "slideshow": {
     "slide_type": "fragment"
    }
   },
   "source": [
    "- 一般的数据抓取，使用urllib2和beautifulsoup配合就可以了。\n",
    "- 尤其是对于翻页时url出现规则变化的网页，只需要处理规则化的url就可以了。\n",
    "- 以简单的例子是抓取天涯论坛上关于某一个关键词的帖子。\n",
    "    - 在天涯论坛，关于雾霾的帖子的第一页是：\n",
    "http://bbs.tianya.cn/list.jsp?item=free&nextid=0&order=8&k=雾霾\n",
    "    - 第二页是：\n",
    "http://bbs.tianya.cn/list.jsp?item=free&nextid=1&order=8&k=雾霾\n"
   ]
  },
  {
   "cell_type": "markdown",
   "metadata": {
    "slideshow": {
     "slide_type": "slide"
    }
   },
   "source": [
    "***\n",
    "# 数据抓取：\n",
    "> # 抓取天涯回帖网络\n",
    "***\n",
    "\n",
    "王成军\n",
    "\n",
    "wangchengjun@nju.edu.cn\n",
    "\n",
    "计算传播网 http://computational-communication.com"
   ]
  },
  {
   "cell_type": "code",
   "execution_count": 2,
   "metadata": {
    "ExecuteTime": {
     "end_time": "2017-05-13T14:36:12.749663",
     "start_time": "2017-05-13T14:36:12.735580"
    },
    "scrolled": true,
    "slideshow": {
     "slide_type": "slide"
    }
   },
   "outputs": [
    {
     "data": {
      "text/html": [
       "<iframe src=http://bbs.tianya.cn/list.jsp?item=free&nextid=%d&order=8&k=PX width=1000 height=500></iframe>"
      ],
      "text/plain": [
       "<IPython.core.display.HTML object>"
      ]
     },
     "execution_count": 2,
     "metadata": {},
     "output_type": "execute_result"
    }
   ],
   "source": [
    "from IPython.display import display_html, HTML\n",
    "HTML('<iframe src=http://bbs.tianya.cn/list.jsp?item=free&nextid=%d&order=8&k=PX width=1000 height=500></iframe>')\n",
    "# the webpage we would like to crawl"
   ]
  },
  {
   "cell_type": "code",
   "execution_count": 94,
   "metadata": {
    "ExecuteTime": {
     "end_time": "2017-05-13T15:11:26.999552",
     "start_time": "2017-05-13T15:11:26.154508"
    },
    "slideshow": {
     "slide_type": "slide"
    }
   },
   "outputs": [],
   "source": [
    "page_num = 0\n",
    "url = \"http://bbs.tianya.cn/list.jsp?item=free&nextid=%d&order=8&k=PX\"% page_num\n",
    "content = urllib2.urlopen(url).read() #获取网页的html文本\n",
    "soup = BeautifulSoup(content, \"lxml\") \n",
    "articles = soup.find_all('tr')"
   ]
  },
  {
   "cell_type": "code",
   "execution_count": 95,
   "metadata": {
    "ExecuteTime": {
     "end_time": "2017-05-13T15:11:43.237275",
     "start_time": "2017-05-13T15:11:43.234008"
    },
    "slideshow": {
     "slide_type": "subslide"
    }
   },
   "outputs": [
    {
     "name": "stdout",
     "output_type": "stream",
     "text": [
      "<tr>\n",
      "<th scope=\"col\"> 标题</th>\n",
      "<th scope=\"col\">作者</th>\n",
      "<th scope=\"col\">点击</th>\n",
      "<th scope=\"col\">回复</th>\n",
      "<th scope=\"col\">发表时间</th>\n",
      "</tr>\n"
     ]
    }
   ],
   "source": [
    "print articles[0]"
   ]
  },
  {
   "cell_type": "code",
   "execution_count": 6,
   "metadata": {
    "ExecuteTime": {
     "end_time": "2017-05-13T14:36:48.895689",
     "start_time": "2017-05-13T14:36:48.892350"
    },
    "slideshow": {
     "slide_type": "subslide"
    }
   },
   "outputs": [
    {
     "name": "stdout",
     "output_type": "stream",
     "text": [
      "<tr class=\"bg\">\n",
      "<td class=\"td-title \">\n",
      "<span class=\"face\" title=\"\">\n",
      "</span>\n",
      "<a href=\"/post-free-2839539-1.shtml\" target=\"_blank\">\r\n",
      "\t\t\t\t\t\t\t宁波镇海PX项目引发群体上访 当地政府发布说明(转载)<span class=\"art-ico art-ico-3\" title=\"内有0张图片\"></span>\n",
      "</a>\n",
      "</td>\n",
      "<td><a class=\"author\" href=\"http://www.tianya.cn/74341835\" target=\"_blank\">无上卫士ABC</a></td>\n",
      "<td>88546</td>\n",
      "<td>1041</td>\n",
      "<td title=\"2012-10-24 12:41\">10-24 12:41</td>\n",
      "</tr>\n"
     ]
    }
   ],
   "source": [
    "print articles[1]"
   ]
  },
  {
   "cell_type": "code",
   "execution_count": 7,
   "metadata": {
    "ExecuteTime": {
     "end_time": "2017-05-13T14:36:53.477390",
     "start_time": "2017-05-13T14:36:53.473380"
    },
    "slideshow": {
     "slide_type": "fragment"
    }
   },
   "outputs": [
    {
     "data": {
      "text/plain": [
       "48"
      ]
     },
     "execution_count": 7,
     "metadata": {},
     "output_type": "execute_result"
    }
   ],
   "source": [
    "len(articles[1:])"
   ]
  },
  {
   "cell_type": "markdown",
   "metadata": {
    "slideshow": {
     "slide_type": "slide"
    }
   },
   "source": [
    "![](./img/inspect.png)"
   ]
  },
  {
   "cell_type": "markdown",
   "metadata": {
    "slideshow": {
     "slide_type": "subslide"
    }
   },
   "source": [
    "http://bbs.tianya.cn/list.jsp?item=free&nextid=0&order=8&k=PX\n",
    "    \n",
    "# 通过分析帖子列表的源代码，使用inspect方法，会发现所有要解析的内容都在‘td’这个层级下\n",
    "    "
   ]
  },
  {
   "cell_type": "code",
   "execution_count": 8,
   "metadata": {
    "ExecuteTime": {
     "end_time": "2017-05-13T14:37:02.792588",
     "start_time": "2017-05-13T14:37:02.789215"
    },
    "slideshow": {
     "slide_type": "subslide"
    }
   },
   "outputs": [
    {
     "name": "stdout",
     "output_type": "stream",
     "text": [
      "<td class=\"td-title \">\n",
      "<span class=\"face\" title=\"\">\n",
      "</span>\n",
      "<a href=\"/post-free-2839539-1.shtml\" target=\"_blank\">\r\n",
      "\t\t\t\t\t\t\t宁波镇海PX项目引发群体上访 当地政府发布说明(转载)<span class=\"art-ico art-ico-3\" title=\"内有0张图片\"></span>\n",
      "</a>\n",
      "</td>\n",
      "<td><a class=\"author\" href=\"http://www.tianya.cn/74341835\" target=\"_blank\">无上卫士ABC</a></td>\n",
      "<td>88546</td>\n",
      "<td>1041</td>\n",
      "<td title=\"2012-10-24 12:41\">10-24 12:41</td>\n"
     ]
    }
   ],
   "source": [
    "for t in articles[1].find_all('td'): print t"
   ]
  },
  {
   "cell_type": "code",
   "execution_count": 9,
   "metadata": {
    "ExecuteTime": {
     "end_time": "2017-05-13T14:37:08.974875",
     "start_time": "2017-05-13T14:37:08.972401"
    },
    "collapsed": true,
    "slideshow": {
     "slide_type": "subslide"
    }
   },
   "outputs": [],
   "source": [
    "td = articles[1].find_all('td')"
   ]
  },
  {
   "cell_type": "code",
   "execution_count": 10,
   "metadata": {
    "ExecuteTime": {
     "end_time": "2017-05-13T14:37:10.387765",
     "start_time": "2017-05-13T14:37:10.384484"
    },
    "slideshow": {
     "slide_type": "subslide"
    }
   },
   "outputs": [
    {
     "name": "stdout",
     "output_type": "stream",
     "text": [
      "<td class=\"td-title \">\n",
      "<span class=\"face\" title=\"\">\n",
      "</span>\n",
      "<a href=\"/post-free-2839539-1.shtml\" target=\"_blank\">\r\n",
      "\t\t\t\t\t\t\t宁波镇海PX项目引发群体上访 当地政府发布说明(转载)<span class=\"art-ico art-ico-3\" title=\"内有0张图片\"></span>\n",
      "</a>\n",
      "</td>\n"
     ]
    }
   ],
   "source": [
    "print td[0]"
   ]
  },
  {
   "cell_type": "code",
   "execution_count": 11,
   "metadata": {
    "ExecuteTime": {
     "end_time": "2017-05-13T14:37:14.288166",
     "start_time": "2017-05-13T14:37:14.284739"
    },
    "slideshow": {
     "slide_type": "subslide"
    }
   },
   "outputs": [
    {
     "name": "stdout",
     "output_type": "stream",
     "text": [
      "<td class=\"td-title \">\n",
      "<span class=\"face\" title=\"\">\n",
      "</span>\n",
      "<a href=\"/post-free-2839539-1.shtml\" target=\"_blank\">\r\n",
      "\t\t\t\t\t\t\t宁波镇海PX项目引发群体上访 当地政府发布说明(转载)<span class=\"art-ico art-ico-3\" title=\"内有0张图片\"></span>\n",
      "</a>\n",
      "</td>\n"
     ]
    }
   ],
   "source": [
    "print td[0]"
   ]
  },
  {
   "cell_type": "code",
   "execution_count": 12,
   "metadata": {
    "ExecuteTime": {
     "end_time": "2017-05-13T14:37:17.679943",
     "start_time": "2017-05-13T14:37:17.676382"
    },
    "slideshow": {
     "slide_type": "subslide"
    }
   },
   "outputs": [
    {
     "name": "stdout",
     "output_type": "stream",
     "text": [
      "\n",
      "\n",
      "\n",
      "\r\n",
      "\t\t\t\t\t\t\t宁波镇海PX项目引发群体上访 当地政府发布说明(转载)\n",
      "\n",
      "\n"
     ]
    }
   ],
   "source": [
    "print td[0].text"
   ]
  },
  {
   "cell_type": "code",
   "execution_count": 13,
   "metadata": {
    "ExecuteTime": {
     "end_time": "2017-05-13T14:37:21.836563",
     "start_time": "2017-05-13T14:37:21.833146"
    },
    "slideshow": {
     "slide_type": "fragment"
    }
   },
   "outputs": [
    {
     "name": "stdout",
     "output_type": "stream",
     "text": [
      "宁波镇海PX项目引发群体上访 当地政府发布说明(转载)\n"
     ]
    }
   ],
   "source": [
    "print td[0].text.strip()"
   ]
  },
  {
   "cell_type": "code",
   "execution_count": 14,
   "metadata": {
    "ExecuteTime": {
     "end_time": "2017-05-13T14:37:24.719579",
     "start_time": "2017-05-13T14:37:24.716316"
    },
    "slideshow": {
     "slide_type": "subslide"
    }
   },
   "outputs": [
    {
     "name": "stdout",
     "output_type": "stream",
     "text": [
      "/post-free-2839539-1.shtml\n"
     ]
    }
   ],
   "source": [
    "print td[0].a['href']"
   ]
  },
  {
   "cell_type": "code",
   "execution_count": 15,
   "metadata": {
    "ExecuteTime": {
     "end_time": "2017-05-13T14:37:28.132498",
     "start_time": "2017-05-13T14:37:28.129154"
    },
    "slideshow": {
     "slide_type": "subslide"
    }
   },
   "outputs": [
    {
     "name": "stdout",
     "output_type": "stream",
     "text": [
      "<td><a class=\"author\" href=\"http://www.tianya.cn/74341835\" target=\"_blank\">无上卫士ABC</a></td>\n"
     ]
    }
   ],
   "source": [
    "print td[1]"
   ]
  },
  {
   "cell_type": "code",
   "execution_count": 16,
   "metadata": {
    "ExecuteTime": {
     "end_time": "2017-05-13T14:37:30.787868",
     "start_time": "2017-05-13T14:37:30.784602"
    },
    "slideshow": {
     "slide_type": "subslide"
    }
   },
   "outputs": [
    {
     "name": "stdout",
     "output_type": "stream",
     "text": [
      "<td>88546</td>\n"
     ]
    }
   ],
   "source": [
    "print td[2]"
   ]
  },
  {
   "cell_type": "code",
   "execution_count": 17,
   "metadata": {
    "ExecuteTime": {
     "end_time": "2017-05-13T14:37:31.803496",
     "start_time": "2017-05-13T14:37:31.800046"
    },
    "slideshow": {
     "slide_type": "subslide"
    }
   },
   "outputs": [
    {
     "name": "stdout",
     "output_type": "stream",
     "text": [
      "<td>1041</td>\n"
     ]
    }
   ],
   "source": [
    "print td[3]"
   ]
  },
  {
   "cell_type": "code",
   "execution_count": 18,
   "metadata": {
    "ExecuteTime": {
     "end_time": "2017-05-13T14:37:32.771195",
     "start_time": "2017-05-13T14:37:32.767938"
    },
    "slideshow": {
     "slide_type": "subslide"
    }
   },
   "outputs": [
    {
     "name": "stdout",
     "output_type": "stream",
     "text": [
      "<td title=\"2012-10-24 12:41\">10-24 12:41</td>\n"
     ]
    }
   ],
   "source": [
    "print td[4]"
   ]
  },
  {
   "cell_type": "code",
   "execution_count": 19,
   "metadata": {
    "ExecuteTime": {
     "end_time": "2017-05-13T14:37:36.279832",
     "start_time": "2017-05-13T14:37:36.263608"
    },
    "slideshow": {
     "slide_type": "slide"
    }
   },
   "outputs": [],
   "source": [
    "records = []\n",
    "for i in articles[1:]:\n",
    "    td = i.find_all('td')\n",
    "    title = td[0].text.strip()\n",
    "    title_url = td[0].a['href']\n",
    "    author = td[1].text\n",
    "    author_url = td[1].a['href']\n",
    "    views = td[2].text\n",
    "    replies = td[3].text\n",
    "    date = td[4]['title']\n",
    "    record = title + '\\t' + title_url+ '\\t' + author + '\\t'+ author_url + '\\t' + views+ '\\t'  + replies+ '\\t'+ date\n",
    "    records.append(record)"
   ]
  },
  {
   "cell_type": "code",
   "execution_count": 20,
   "metadata": {
    "ExecuteTime": {
     "end_time": "2017-05-13T14:37:37.811150",
     "start_time": "2017-05-13T14:37:37.807766"
    },
    "slideshow": {
     "slide_type": "fragment"
    }
   },
   "outputs": [
    {
     "name": "stdout",
     "output_type": "stream",
     "text": [
      "PX是否有毒?宁波镇海事件谁在推波助澜(转载)\t/post-free-2848995-1.shtml\tzzjzzpgg12\thttp://www.tianya.cn/53134970\t38395\t835\t2012-10-28 21:08\n"
     ]
    }
   ],
   "source": [
    "print records[2]"
   ]
  },
  {
   "cell_type": "markdown",
   "metadata": {
    "slideshow": {
     "slide_type": "slide"
    }
   },
   "source": [
    "# 抓取天涯论坛PX帖子列表\n",
    "\n",
    "回帖网络（Thread network）的结构\n",
    "- 列表\n",
    "- 主帖\n",
    "- 回帖"
   ]
  },
  {
   "cell_type": "code",
   "execution_count": 21,
   "metadata": {
    "ExecuteTime": {
     "end_time": "2017-05-13T14:42:44.419079",
     "start_time": "2017-05-13T14:42:44.408679"
    },
    "slideshow": {
     "slide_type": "slide"
    }
   },
   "outputs": [],
   "source": [
    "def crawler(page_num, file_name):\n",
    "    try:\n",
    "        # open the browser\n",
    "        url = \"http://bbs.tianya.cn/list.jsp?item=free&nextid=%d&order=8&k=PX\" % page_num\n",
    "        content = urllib2.urlopen(url).read() #获取网页的html文本\n",
    "        soup = BeautifulSoup(content, \"lxml\") \n",
    "        articles = soup.find_all('tr')\n",
    "        # write down info\n",
    "        for i in articles[1:]:\n",
    "            td = i.find_all('td')\n",
    "            title = td[0].text.strip()\n",
    "            title_url = td[0].a['href']\n",
    "            author = td[1].text\n",
    "            author_url = td[1].a['href']\n",
    "            views = td[2].text\n",
    "            replies = td[3].text\n",
    "            date = td[4]['title']\n",
    "            record = title + '\\t' + title_url+ '\\t' + author + '\\t'+ \\\n",
    "                        author_url + '\\t' + views+ '\\t'  + replies+ '\\t'+ date\n",
    "            with open(file_name,'a') as p: # '''Note'''：Ａppend mode, run only once!\n",
    "                        p.write(record.encode('utf-8')+\"\\n\") ##!!encode here to utf-8 to avoid encoding\n",
    "\n",
    "    except Exception, e:\n",
    "        print e\n",
    "        pass"
   ]
  },
  {
   "cell_type": "code",
   "execution_count": 22,
   "metadata": {
    "ExecuteTime": {
     "end_time": "2017-05-13T14:43:00.979037",
     "start_time": "2017-05-13T14:42:53.229083"
    },
    "slideshow": {
     "slide_type": "subslide"
    }
   },
   "outputs": [
    {
     "name": "stdout",
     "output_type": "stream",
     "text": [
      "0\n",
      "1\n",
      "2\n",
      "3\n",
      "4\n",
      "5\n",
      "6\n",
      "7\n",
      "8\n",
      "9\n"
     ]
    }
   ],
   "source": [
    "# crawl all pages\n",
    "for page_num in range(10):\n",
    "    print (page_num) \n",
    "    crawler(page_num, '/Users/chengjun/bigdata/tianya_bbs_threads_list2017.txt') "
   ]
  },
  {
   "cell_type": "code",
   "execution_count": 31,
   "metadata": {
    "ExecuteTime": {
     "end_time": "2017-05-13T14:46:22.868905",
     "start_time": "2017-05-13T14:46:22.853411"
    },
    "slideshow": {
     "slide_type": "slide"
    }
   },
   "outputs": [
    {
     "data": {
      "text/html": [
       "<div>\n",
       "<table border=\"1\" class=\"dataframe\">\n",
       "  <thead>\n",
       "    <tr style=\"text-align: right;\">\n",
       "      <th></th>\n",
       "      <th>title</th>\n",
       "      <th>link</th>\n",
       "      <th>author</th>\n",
       "      <th>author_page</th>\n",
       "      <th>click</th>\n",
       "      <th>reply</th>\n",
       "      <th>time</th>\n",
       "    </tr>\n",
       "  </thead>\n",
       "  <tbody>\n",
       "    <tr>\n",
       "      <th>0</th>\n",
       "      <td>宁波镇海PX项目引发群体上访 当地政府发布说明(转载)</td>\n",
       "      <td>/post-free-2839539-1.shtml</td>\n",
       "      <td>无上卫士ABC</td>\n",
       "      <td>http://www.tianya.cn/74341835</td>\n",
       "      <td>88546</td>\n",
       "      <td>1041</td>\n",
       "      <td>2012-10-24 12:41</td>\n",
       "    </tr>\n",
       "    <tr>\n",
       "      <th>1</th>\n",
       "      <td>宁波准备停止PX项目了,元芳,你怎么看?</td>\n",
       "      <td>/post-free-2848797-1.shtml</td>\n",
       "      <td>牧阳光</td>\n",
       "      <td>http://www.tianya.cn/36535656</td>\n",
       "      <td>83287</td>\n",
       "      <td>625</td>\n",
       "      <td>2012-10-28 19:11</td>\n",
       "    </tr>\n",
       "  </tbody>\n",
       "</table>\n",
       "</div>"
      ],
      "text/plain": [
       "                         title                        link   author  \\\n",
       "0  宁波镇海PX项目引发群体上访 当地政府发布说明(转载)  /post-free-2839539-1.shtml  无上卫士ABC   \n",
       "1         宁波准备停止PX项目了,元芳,你怎么看?  /post-free-2848797-1.shtml      牧阳光   \n",
       "\n",
       "                     author_page  click  reply              time  \n",
       "0  http://www.tianya.cn/74341835  88546   1041  2012-10-24 12:41  \n",
       "1  http://www.tianya.cn/36535656  83287    625  2012-10-28 19:11  "
      ]
     },
     "execution_count": 31,
     "metadata": {},
     "output_type": "execute_result"
    }
   ],
   "source": [
    "import pandas as pd\n",
    "\n",
    "df = pd.read_csv('/Users/chengjun/bigdata/tianya_bbs_threads_list2017.txt',\\\n",
    "                 sep = \"\\t\",  names = ['title', 'link', 'author', \\\n",
    "                 'author_page', 'click', 'reply', 'time'])\n",
    "df[:2]"
   ]
  },
  {
   "cell_type": "code",
   "execution_count": 32,
   "metadata": {
    "ExecuteTime": {
     "end_time": "2017-05-13T14:46:24.285379",
     "start_time": "2017-05-13T14:46:24.281215"
    },
    "slideshow": {
     "slide_type": "fragment"
    }
   },
   "outputs": [
    {
     "data": {
      "text/plain": [
       "440"
      ]
     },
     "execution_count": 32,
     "metadata": {},
     "output_type": "execute_result"
    }
   ],
   "source": [
    "len(df)"
   ]
  },
  {
   "cell_type": "code",
   "execution_count": 33,
   "metadata": {
    "ExecuteTime": {
     "end_time": "2017-05-13T14:46:30.989498",
     "start_time": "2017-05-13T14:46:30.985136"
    },
    "slideshow": {
     "slide_type": "fragment"
    }
   },
   "outputs": [
    {
     "data": {
      "text/plain": [
       "440"
      ]
     },
     "execution_count": 33,
     "metadata": {},
     "output_type": "execute_result"
    }
   ],
   "source": [
    "len(df.link)"
   ]
  },
  {
   "cell_type": "markdown",
   "metadata": {
    "slideshow": {
     "slide_type": "slide"
    }
   },
   "source": [
    "# 抓取作者信息"
   ]
  },
  {
   "cell_type": "code",
   "execution_count": 34,
   "metadata": {
    "ExecuteTime": {
     "end_time": "2017-05-13T14:46:32.776385",
     "start_time": "2017-05-13T14:46:32.770688"
    },
    "slideshow": {
     "slide_type": "fragment"
    }
   },
   "outputs": [
    {
     "data": {
      "text/plain": [
       "0    http://www.tianya.cn/74341835\n",
       "1    http://www.tianya.cn/36535656\n",
       "2    http://www.tianya.cn/53134970\n",
       "3    http://www.tianya.cn/16142449\n",
       "4    http://www.tianya.cn/50499450\n",
       "Name: author_page, dtype: object"
      ]
     },
     "execution_count": 34,
     "metadata": {},
     "output_type": "execute_result"
    }
   ],
   "source": [
    "df.author_page[:5]"
   ]
  },
  {
   "cell_type": "markdown",
   "metadata": {
    "slideshow": {
     "slide_type": "slide"
    }
   },
   "source": [
    "http://www.tianya.cn/62237033\n",
    "    \n",
    "http://www.tianya.cn/67896263\n",
    "    "
   ]
  },
  {
   "cell_type": "code",
   "execution_count": 23,
   "metadata": {
    "slideshow": {
     "slide_type": "slide"
    }
   },
   "outputs": [],
   "source": [
    "# user_info"
   ]
  },
  {
   "cell_type": "code",
   "execution_count": 46,
   "metadata": {
    "ExecuteTime": {
     "end_time": "2017-05-13T14:51:41.092823",
     "start_time": "2017-05-13T14:51:40.518416"
    },
    "collapsed": true,
    "slideshow": {
     "slide_type": "subslide"
    }
   },
   "outputs": [],
   "source": [
    "url = df.author_page[2]\n",
    "content = urllib2.urlopen(url).read() #获取网页的html文本\n",
    "soup = BeautifulSoup(content, \"lxml\") "
   ]
  },
  {
   "cell_type": "code",
   "execution_count": 47,
   "metadata": {
    "ExecuteTime": {
     "end_time": "2017-05-13T14:51:41.919138",
     "start_time": "2017-05-13T14:51:41.913589"
    }
   },
   "outputs": [
    {
     "name": "stdout",
     "output_type": "stream",
     "text": [
      "13221\n",
      "967\n",
      "2015-02-06 14:43:02\n",
      "2011-06-15 20:36:00\n"
     ]
    }
   ],
   "source": [
    "user_info = soup.find('div',  {'class', 'userinfo'})('p')\n",
    "for i in user_info:\n",
    "    print i.get_text()[4:]"
   ]
  },
  {
   "cell_type": "code",
   "execution_count": 48,
   "metadata": {
    "ExecuteTime": {
     "end_time": "2017-05-13T14:52:02.347397",
     "start_time": "2017-05-13T14:52:02.334161"
    },
    "slideshow": {
     "slide_type": "subslide"
    }
   },
   "outputs": [
    {
     "name": "stdout",
     "output_type": "stream",
     "text": [
      "13221 967 2015-02-06 14:43:02 2011-06-15 20:36:00\n",
      "21 26\n"
     ]
    }
   ],
   "source": [
    "user_info = soup.find('div',  {'class', 'userinfo'})('p')\n",
    "nid, freq_use, last_login_time, reg_time = \\\n",
    "[i.get_text()[4:] for i in user_info]\n",
    "print nid, freq_use, last_login_time, reg_time \n",
    "\n",
    "link_info = soup1.find_all('div', {'class', 'link-box'})\n",
    "followed_num, fans_num = [i.a.text for i in link_info]\n",
    "print followed_num, fans_num"
   ]
  },
  {
   "cell_type": "code",
   "execution_count": 49,
   "metadata": {
    "ExecuteTime": {
     "end_time": "2017-05-13T14:52:06.591057",
     "start_time": "2017-05-13T14:52:06.581688"
    },
    "slideshow": {
     "slide_type": "subslide"
    }
   },
   "outputs": [
    {
     "name": "stdout",
     "output_type": "stream",
     "text": [
      "31 1245\n"
     ]
    }
   ],
   "source": [
    "activity = soup1.find_all('span', {'class', 'subtitle'})\n",
    "post_num, reply_num = [j.text[2:] for i in activity[:1] for j in i('a')]\n",
    "print post_num, reply_num"
   ]
  },
  {
   "cell_type": "code",
   "execution_count": 52,
   "metadata": {
    "ExecuteTime": {
     "end_time": "2017-05-13T14:52:25.448694",
     "start_time": "2017-05-13T14:52:25.445239"
    },
    "slideshow": {
     "slide_type": "subslide"
    }
   },
   "outputs": [
    {
     "name": "stdout",
     "output_type": "stream",
     "text": [
      "<span class=\"subtitle\"><a href=\"http://www.tianya.cn/36535656/bbs?t=post\">主帖31</a>　<a href=\"http://www.tianya.cn/36535656/bbs?t=reply\">回帖1245</a></span>\n"
     ]
    }
   ],
   "source": [
    "print activity[0]"
   ]
  },
  {
   "cell_type": "code",
   "execution_count": 53,
   "metadata": {
    "ExecuteTime": {
     "end_time": "2017-05-13T14:52:30.960701",
     "start_time": "2017-05-13T14:52:30.949721"
    },
    "slideshow": {
     "slide_type": "subslide"
    }
   },
   "outputs": [
    {
     "name": "stdout",
     "output_type": "stream",
     "text": [
      "17 23\n"
     ]
    }
   ],
   "source": [
    "link_info = soup.find_all('div', {'class', 'link-box'})\n",
    "followed_num, fans_num = [i.a.text for i in link_info]\n",
    "print followed_num, fans_num"
   ]
  },
  {
   "cell_type": "code",
   "execution_count": 54,
   "metadata": {
    "ExecuteTime": {
     "end_time": "2017-05-13T14:52:32.293599",
     "start_time": "2017-05-13T14:52:32.289584"
    },
    "slideshow": {
     "slide_type": "subslide"
    }
   },
   "outputs": [
    {
     "data": {
      "text/plain": [
       "u'17'"
      ]
     },
     "execution_count": 54,
     "metadata": {},
     "output_type": "execute_result"
    }
   ],
   "source": [
    "link_info[0].a.text"
   ]
  },
  {
   "cell_type": "code",
   "execution_count": 55,
   "metadata": {
    "ExecuteTime": {
     "end_time": "2017-05-13T14:56:21.954459",
     "start_time": "2017-05-13T14:56:21.942541"
    },
    "slideshow": {
     "slide_type": "slide"
    }
   },
   "outputs": [],
   "source": [
    "# user_info = soup.find('div',  {'class', 'userinfo'})('p')\n",
    "# user_infos = [i.get_text()[4:] for i in user_info]\n",
    "            \n",
    "def author_crawler(url, file_name):\n",
    "    try:\n",
    "        content = urllib2.urlopen(url).read() #获取网页的html文本\n",
    "        soup = BeautifulSoup(content, \"lxml\")\n",
    "        link_info = soup.find_all('div', {'class', 'link-box'})\n",
    "        followed_num, fans_num = [i.a.text for i in link_info]\n",
    "        try:\n",
    "            activity = soup.find_all('span', {'class', 'subtitle'})\n",
    "            post_num, reply_num = [j.text[2:] for i in activity[:1] for j in i('a')]\n",
    "        except:\n",
    "            post_num, reply_num = 1, 0\n",
    "        record =  '\\t'.join([url, followed_num, fans_num, post_num, reply_num])\n",
    "        with open(file_name,'a') as p: # '''Note'''：Ａppend mode, run only once!\n",
    "                    p.write(record.encode('utf-8')+\"\\n\") ##!!encode here to utf-8 to avoid encoding\n",
    "\n",
    "    except Exception, e:\n",
    "        print e, url\n",
    "        record =  '\\t'.join([url, 'na', 'na', 'na', 'na'])\n",
    "        with open(file_name,'a') as p: # '''Note'''：Ａppend mode, run only once!\n",
    "                    p.write(record.encode('utf-8')+\"\\n\") ##!!encode here to utf-8 to avoid encoding\n",
    "        pass"
   ]
  },
  {
   "cell_type": "code",
   "execution_count": 100,
   "metadata": {
    "ExecuteTime": {
     "end_time": "2017-05-13T15:37:23.851206",
     "start_time": "2017-05-13T15:37:23.847647"
    },
    "slideshow": {
     "slide_type": "slide"
    }
   },
   "outputs": [],
   "source": [
    "import sys\n",
    "def flushPrint(s):\n",
    "    sys.stdout.write('\\r')\n",
    "    sys.stdout.write('%s' % s)\n",
    "    sys.stdout.flush()"
   ]
  },
  {
   "cell_type": "code",
   "execution_count": 101,
   "metadata": {
    "ExecuteTime": {
     "end_time": "2017-05-13T15:38:54.400157",
     "start_time": "2017-05-13T15:38:29.578003"
    },
    "slideshow": {
     "slide_type": "slide"
    }
   },
   "outputs": [
    {
     "name": "stdout",
     "output_type": "stream",
     "text": [
      "10HTTP Error 503: Service Temporarily Unavailable http://www.tianya.cn/3151104\n",
      "HTTP Error 503: Service Temporarily Unavailable http://www.tianya.cn/73924603\n",
      "HTTP Error 503: Service Temporarily Unavailable http://www.tianya.cn/68696683\n",
      "HTTP Error 503: Service Temporarily Unavailable http://www.tianya.cn/68696683\n",
      "HTTP Error 503: Service Temporarily Unavailable http://www.tianya.cn/19265466\n",
      "HTTP Error 503: Service Temporarily Unavailable http://www.tianya.cn/7260262\n",
      "HTTP Error 503: Service Temporarily Unavailable http://www.tianya.cn/44156220\n",
      "HTTP Error 503: Service Temporarily Unavailable http://www.tianya.cn/44156220\n",
      "HTTP Error 503: Service Temporarily Unavailable http://www.tianya.cn/80671380\n",
      "HTTP Error 503: Service Temporarily Unavailable http://www.tianya.cn/81120713\n",
      "20HTTP Error 503: Service Temporarily Unavailable http://www.tianya.cn/12620568\n",
      "HTTP Error 503: Service Temporarily Unavailable http://www.tianya.cn/80982782\n",
      "HTTP Error 503: Service Temporarily Unavailable http://www.tianya.cn/25210087\n",
      "HTTP Error 503: Service Temporarily Unavailable http://www.tianya.cn/22012774\n",
      "HTTP Error 503: Service Temporarily Unavailable http://www.tianya.cn/59387514\n",
      "HTTP Error 503: Service Temporarily Unavailable http://www.tianya.cn/10380333\n",
      "HTTP Error 503: Service Temporarily Unavailable http://www.tianya.cn/79139119\n"
     ]
    },
    {
     "ename": "KeyboardInterrupt",
     "evalue": "",
     "output_type": "error",
     "traceback": [
      "\u001b[0;31m---------------------------------------------------------------------------\u001b[0m",
      "\u001b[0;31mKeyboardInterrupt\u001b[0m                         Traceback (most recent call last)",
      "\u001b[0;32m<ipython-input-101-92caa8d2a6cc>\u001b[0m in \u001b[0;36m<module>\u001b[0;34m()\u001b[0m\n\u001b[1;32m      1\u001b[0m \u001b[0;32mimport\u001b[0m \u001b[0mtime\u001b[0m\u001b[0;34m,\u001b[0m \u001b[0mrandom\u001b[0m\u001b[0;34m\u001b[0m\u001b[0m\n\u001b[1;32m      2\u001b[0m \u001b[0;32mfor\u001b[0m \u001b[0mk\u001b[0m\u001b[0;34m,\u001b[0m \u001b[0murl\u001b[0m \u001b[0;32min\u001b[0m \u001b[0menumerate\u001b[0m\u001b[0;34m(\u001b[0m\u001b[0mdf\u001b[0m\u001b[0;34m.\u001b[0m\u001b[0mauthor_page\u001b[0m\u001b[0;34m)\u001b[0m\u001b[0;34m:\u001b[0m\u001b[0;34m\u001b[0m\u001b[0m\n\u001b[0;32m----> 3\u001b[0;31m     \u001b[0mtime\u001b[0m\u001b[0;34m.\u001b[0m\u001b[0msleep\u001b[0m\u001b[0;34m(\u001b[0m\u001b[0mrandom\u001b[0m\u001b[0;34m.\u001b[0m\u001b[0mrandom\u001b[0m\u001b[0;34m(\u001b[0m\u001b[0;34m)\u001b[0m\u001b[0;34m)\u001b[0m\u001b[0;34m\u001b[0m\u001b[0m\n\u001b[0m\u001b[1;32m      4\u001b[0m     \u001b[0;32mif\u001b[0m \u001b[0mk\u001b[0m \u001b[0;34m%\u001b[0m \u001b[0;36m10\u001b[0m\u001b[0;34m==\u001b[0m\u001b[0;36m0\u001b[0m\u001b[0;34m:\u001b[0m\u001b[0;34m\u001b[0m\u001b[0m\n\u001b[1;32m      5\u001b[0m         \u001b[0mflushPrint\u001b[0m\u001b[0;34m(\u001b[0m\u001b[0mk\u001b[0m\u001b[0;34m)\u001b[0m\u001b[0;34m\u001b[0m\u001b[0m\n",
      "\u001b[0;31mKeyboardInterrupt\u001b[0m: "
     ]
    }
   ],
   "source": [
    "import time, random\n",
    "for k, url in enumerate(df.author_page):\n",
    "    time.sleep(random.random())\n",
    "    if k % 10==0:\n",
    "        flushPrint(k)\n",
    "    author_crawler(url, '/Users/chengjun/github/cjc/data/tianya_bbs_threads_author_info2017_1.txt') "
   ]
  },
  {
   "cell_type": "markdown",
   "metadata": {
    "slideshow": {
     "slide_type": "subslide"
    }
   },
   "source": [
    "http://www.tianya.cn/50499450/follow  \n",
    "\n",
    "还可抓取他们的关注列表和粉丝列表"
   ]
  },
  {
   "cell_type": "markdown",
   "metadata": {
    "slideshow": {
     "slide_type": "slide"
    }
   },
   "source": [
    "***\n",
    "***\n",
    "# 数据抓取：\n",
    "> # 使用Python抓取回帖\n",
    "***\n",
    "***\n",
    "\n",
    "王成军\n",
    "\n",
    "wangchengjun@nju.edu.cn\n",
    "\n",
    "计算传播网 http://computational-communication.com"
   ]
  },
  {
   "cell_type": "code",
   "execution_count": 62,
   "metadata": {
    "ExecuteTime": {
     "end_time": "2017-05-13T15:06:13.718292",
     "start_time": "2017-05-13T15:06:13.713891"
    },
    "slideshow": {
     "slide_type": "slide"
    }
   },
   "outputs": [
    {
     "data": {
      "text/plain": [
       "'/post-free-2839539-1.shtml'"
      ]
     },
     "execution_count": 62,
     "metadata": {},
     "output_type": "execute_result"
    }
   ],
   "source": [
    "df.link[0]"
   ]
  },
  {
   "cell_type": "code",
   "execution_count": 96,
   "metadata": {
    "ExecuteTime": {
     "end_time": "2017-05-13T15:21:27.606191",
     "start_time": "2017-05-13T15:21:27.602678"
    },
    "slideshow": {
     "slide_type": "fragment"
    }
   },
   "outputs": [
    {
     "name": "stdout",
     "output_type": "stream",
     "text": [
      "http://bbs.tianya.cn/post-free-2848995-1.shtml\n"
     ]
    }
   ],
   "source": [
    "url = 'http://bbs.tianya.cn' + df.link[2]\n",
    "print url"
   ]
  },
  {
   "cell_type": "code",
   "execution_count": 64,
   "metadata": {
    "ExecuteTime": {
     "end_time": "2017-05-13T15:06:17.125927",
     "start_time": "2017-05-13T15:06:17.121673"
    },
    "scrolled": true,
    "slideshow": {
     "slide_type": "slide"
    }
   },
   "outputs": [
    {
     "data": {
      "text/html": [
       "<iframe src=http://bbs.tianya.cn/post-free-2848797-1.shtml width=1000 height=500></iframe>"
      ],
      "text/plain": [
       "<IPython.core.display.HTML object>"
      ]
     },
     "execution_count": 64,
     "metadata": {},
     "output_type": "execute_result"
    }
   ],
   "source": [
    "from IPython.display import display_html, HTML\n",
    "HTML('<iframe src=http://bbs.tianya.cn/post-free-2848797-1.shtml width=1000 height=500></iframe>')\n",
    "# the webpage we would like to crawl"
   ]
  },
  {
   "cell_type": "code",
   "execution_count": 65,
   "metadata": {
    "ExecuteTime": {
     "end_time": "2017-05-13T15:06:23.663950",
     "start_time": "2017-05-13T15:06:22.793088"
    },
    "slideshow": {
     "slide_type": "slide"
    }
   },
   "outputs": [],
   "source": [
    "post = urllib2.urlopen(url).read() #获取网页的html文本\n",
    "post_soup = BeautifulSoup(post, \"lxml\") \n",
    "#articles = soup.find_all('tr')"
   ]
  },
  {
   "cell_type": "code",
   "execution_count": 66,
   "metadata": {
    "ExecuteTime": {
     "end_time": "2017-05-13T15:06:24.664478",
     "start_time": "2017-05-13T15:06:24.567893"
    },
    "scrolled": true,
    "slideshow": {
     "slide_type": "fragment"
    }
   },
   "outputs": [
    {
     "name": "stdout",
     "output_type": "stream",
     "text": [
      "<!DOCTYPE HTML>\n",
      "<html>\n",
      " <head>\n",
      "  <meta charset=\"utf-8\"/>\n",
      "  <title>\n",
      "   PX是否有毒？宁波镇海事件谁在推波助澜(转载)_天涯杂谈_天涯论坛_天涯社区\n",
      "  </title>\n",
      "  <meta content=\"一网友如下说：根据百度百科收录，PX是对二甲苯（Paraxylene）的简称，和苯、甲苯一样属于芳烃物质，外观为无色透明液体，稳定性较好，不溶于水，属低毒类化工品（其后说：“PX本身毒性低于酒精，但高于食盐。”），是作为合成聚酯纤维、树脂、涂料...\" itemprop=\"description\" name=\"description\"/>\n",
      "  <meta content=\"PX是否有毒？宁波镇海事件谁在推波助澜(转载)_天涯杂谈_天涯论坛_天涯社区\" itemprop=\"name\"/>\n",
      "  <meta content=\"\" itemprop=\"image\"/>\n",
      "  <meta content=\"IE=Edge\" http-equiv=\"X-UA-Compatible\"/>\n",
      "  <meta content=\"zzjzzpgg12\" name=\"author\"/>\n",
      "  <meta content=\"no-transform\" http-equiv=\"Cache-Control\"/>\n",
      "  <meta content=\"no-siteapp\" http-equiv=\"Cache-Control\"/>\n",
      "  <meta content=\"pc\" name=\"applicable-device\"/>\n",
      "  <meta content=\"format=xhtml; url=http://bbs.tianya.cn/m/post-free-2848995-1.shtml\" name=\"mobile-agent\"/>\n",
      "  <meta content=\"format=html5; url=http://bbs.tianya.cn/m/post-free-2848995-1.shtml\" name=\"mobile-agent\"/>\n",
      "  <meta content=\"format=wml; url=http://bbs.tianya.cn/m/post-free-2848995-1.shtml\" name=\"mobile-agent\"/>\n",
      "  <link href=\"http://bbs.tianya.cn/m/post-free-2848995-1.shtml\" media=\"only screen and (max-width: 640px)\" rel=\"alternate\"/>\n",
      "  <link href=\"http://static.tianyaui.com/global/ty/TY.css\" rel=\"stylesheet\" type=\"text/css\"/>\n",
      "  <link href=\"http://static.tianyaui.com/global/bbs/web/static/css/bbs_article_813b107.css\" rel=\"stylesheet\" type=\"text/css\"/>\n",
      "  <link href=\"http://static.tianyaui.com/favicon.ico\" rel=\"shortcut icon\" type=\"image/vnd.microsoft.icon\"/>\n",
      "  <link href=\"http://bbs.tianya.cn/post-free-2848995-2.shtml\" rel=\"next\"/>\n",
      "  <script type=\"text/javascript\">\n",
      "   var bbsGlobal = {\r\n",
      "\tisEhomeItem : false,\r\n",
      "\tisNewArticle : false,\r\n",
      "\tauthorId : \"53134970\",\r\n",
      "\tauthorName : \"zzjzzpgg12\", \r\n",
      "\tblocktype : \"主版\",\r\n",
      "\titemType : \"主版\",\r\n",
      "\tlaibaType : \"null\",  \r\n",
      "\tpage : \"1\",\r\n",
      "\tpermission : true,\r\n",
      "\tpermissionStatus : \"开放\",\r\n",
      "\titemPermission : 1,\r\n",
      "\titemCategory : \"社会\",\r\n",
      "\tisWeiLun : false,\r\n",
      "\tisSealItem : false,\r\n",
      "\titem : \"free\",\r\n",
      "\titemName : \"天涯杂谈\",\r\n",
      "\tartId : 2848995,\r\n",
      "\tmedia : 0,\r\n",
      "\tsubType : \"\",\r\n",
      "\tad : 0,\r\n",
      "\tadshow : 0,\r\n",
      "\tadblock : 0,\r\n",
      "\twords : [{\"link\":\"http://book.tianya.cn/chapter-81484\",\"word\":\"爱情\"},{\"link\":\"http://book.tianya.cn/chapter-78815\",\"word\":\"网约车\"},{\"link\":\"http://book.tianya.cn/chapter-81489\",\"word\":\"女友\"}],\r\n",
      "\tpageCount : 9,\r\n",
      "\tdashang : {\r\n",
      "\t\tmerId : \"%E5%A4%A9%E6%B6%AF%E8%AE%BA%E5%9D%9B\",\r\n",
      "\t\tmerNum : \"free-2848995\",\r\n",
      "\t\tgetName : \"zzjzzpgg12\",\r\n",
      "\t\ttime : \"1494659182586\",\r\n",
      "\t\text1 : \"2848995\",\r\n",
      "\t\text2 : \"free\",\r\n",
      "\t\text4 : \"PX%E6%98%AF%E5%90%A6%E6%9C%89%E6%AF%92%EF%BC%9F%E5%AE%81%E6%B3%A2%E9%95%87%E6%B5%B7%E4%BA%8B%E4%BB%B6%E8%B0%81%E5%9C%A8%E6%8E%A8%E6%B3%A2%E5%8A%A9%E6%BE%9C%28%E8%BD%AC%E8%BD%BD%29\",\r\n",
      "\t\tsign : \"b2a8550244551012b62f4141a859d01a\",\r\n",
      "\t\tamount : 0,\r\n",
      "\t\tzhiyinCount : 0,\r\n",
      "\t\tnewestRecords : null\r\n",
      "\t},\r\n",
      "\tisWenda : false,\r\n",
      "\t\r\n",
      "\tisSlide : true,\r\n",
      "\ttrueName : \"\",\r\n",
      "\tartProtectedTips : \"\",\r\n",
      "\tartGuard : 0,\r\n",
      "\tisVideoAuthor : 0\r\n",
      "};\r\n",
      "\r\n",
      "var adsGlobal = {\r\n",
      "\t\titemId : \"993\",\r\n",
      "\t\tpageType : \"02\",\r\n",
      "\t\tpopWinId: \"16\"\r\n",
      "};\n",
      "  </script>\n",
      "  <script charset=\"utf-8\" src=\"http://static.tianyaui.com/global/ty/TY.js\" type=\"text/javascript\">\n",
      "  </script>\n",
      "  <script charset=\"utf-8\" src=\"http://static.tianyaui.com/global/bbs/web/static/js/main_a924432.js\" type=\"text/javascript\">\n",
      "  </script>\n",
      " </head>\n",
      " <body>\n",
      "  <div id=\"top_nav_banner\">\n",
      "   <div id=\"top_nav_wrap\" style=\"\">\n",
      "    <div class=\"clearfix\" id=\"top_nav\">\n",
      "     <div class=\"top-nav-logo\">\n",
      "      <a _tystat=\"新版顶导航/Logo\" href=\"http://focus.tianya.cn/\">\n",
      "      </a>\n",
      "     </div>\n",
      "     <div class=\"top-nav-main clearfix\">\n",
      "      <div class=\"top-nav-menu clearfix\">\n",
      "       <div class=\"top-nav-fl clearfix\">\n",
      "        <ul class=\"top-nav-menu-list clearfix\">\n",
      "         <li class=\"top-nav-menu-li top-nav-menu-li-first\">\n",
      "          <a _checklocation=\"1\" _tystat=\"新版顶导航/论坛\" appstr=\"bbs\" class=\"top-nav-main-menu on\" href=\"http://bbs.tianya.cn/\">\n",
      "           论坛\n",
      "          </a>\n",
      "         </li>\n",
      "         <li class=\"top-nav-menu-li\">\n",
      "          <a _checklocation=\"1\" _tystat=\"新版顶导航/分社区/聚焦\" appstr=\"focus\" class=\"top-nav-main-menu\" href=\"http://focus.tianya.cn/\">\n",
      "           聚焦\n",
      "          </a>\n",
      "         </li>\n",
      "         <li class=\"top-nav-menu-li\">\n",
      "          <a _checklocation=\"1\" _tystat=\"新版顶导航/部落\" class=\"top-nav-main-menu\" href=\"http://groups.tianya.cn/\">\n",
      "           部落\n",
      "          </a>\n",
      "         </li>\n",
      "         <li class=\"top-nav-menu-li\">\n",
      "          <a _checklocation=\"1\" _tystat=\"新版顶导航/天涯榜\" appstr=\"shang\" class=\"top-nav-main-menu\" href=\"http://shang.tianya.cn\">\n",
      "           天涯榜\n",
      "          </a>\n",
      "         </li>\n",
      "         <li class=\"top-nav-menu-li\">\n",
      "          <div class=\"more-view\" id=\"top_nav_menu_more_view\" style=\"display: none;\">\n",
      "           <div class=\"link-rec clearfix\">\n",
      "            <div class=\"link-list\">\n",
      "             <a _checklocation=\"1\" _tystat=\"新版顶导航/问答\" appstr=\"wenda\" class=\"top-nav-main-menu\" href=\"http://wenda.tianya.cn/\">\n",
      "              问答\n",
      "             </a>\n",
      "             <a _checklocation=\"1\" _tystat=\"新版顶导航/博客\" appstr=\"blog\" class=\"top-nav-main-menu\" href=\"http://blog.tianya.cn/\">\n",
      "              博客\n",
      "             </a>\n",
      "             <a _checklocation=\"1\" _tys\n"
     ]
    }
   ],
   "source": [
    "print (post_soup.prettify())[:5000]"
   ]
  },
  {
   "cell_type": "code",
   "execution_count": 67,
   "metadata": {
    "ExecuteTime": {
     "end_time": "2017-05-13T15:06:28.234492",
     "start_time": "2017-05-13T15:06:28.148957"
    },
    "slideshow": {
     "slide_type": "subslide"
    }
   },
   "outputs": [
    {
     "data": {
      "text/plain": [
       "95"
      ]
     },
     "execution_count": 67,
     "metadata": {},
     "output_type": "execute_result"
    }
   ],
   "source": [
    "pa = post_soup.find_all('div', {'class', 'atl-item'})\n",
    "len(pa)"
   ]
  },
  {
   "cell_type": "code",
   "execution_count": 68,
   "metadata": {
    "ExecuteTime": {
     "end_time": "2017-05-13T15:06:29.134432",
     "start_time": "2017-05-13T15:06:29.130249"
    },
    "slideshow": {
     "slide_type": "subslide"
    }
   },
   "outputs": [
    {
     "name": "stdout",
     "output_type": "stream",
     "text": [
      "<div _host=\"zzjzzpgg12\" _hostid=\"53134970\" class=\"atl-item host-item\">\n",
      "<div class=\"atl-content\">\n",
      "<div class=\"atl-con-hd clearfix\">\n",
      "<div class=\"atl-con-hd-l\"></div>\n",
      "<div class=\"atl-con-hd-r\"></div>\n",
      "</div>\n",
      "<div class=\"atl-con-bd clearfix\">\n",
      "<div class=\"bbs-content clearfix\">\r\n",
      "\t\t\t\t\t\t\t　　一网友如下说：<br/>　　根据百度百科收录，PX是对二甲苯（Paraxylene）的简称，和苯、甲苯一样属于芳烃物质，外观为无色透明液体，稳定性较好，不溶于水，属低毒类化工品（其后说：“PX本身毒性低于酒精，但高于食盐。”），是作为合成聚酯纤维、树脂、涂料、染料和农药等的原料。<br/>　　在厦门PX事件中，被公众广为传播的一条短信这样描述PX的危害：建造PX项目意味着放了一颗原子弹，厦门人民以后将在白血病中度过。<br/>　　苯、芳烃、有机物等标签，让人们将PX与“高致癌物”联系在一起，但各种数据表明，PX其实是一种低毒性的化学品。笔者在此援引《科学时报》记者的调查结果：中科院化学所的实验室有机化学方向的一位博士生表示，“PX的毒性并不大，在有机化学中，PX是实验室中常用的有机溶剂；甚至有时候还用来擦洗物体上残留的顽固污渍。”。该博士生介绍的国际化学品安全说明书（MSDS）也显示，PX属低毒类化学物质。如果用“半数致死剂量（LD50）”的方法进行准确衡量，PX的大鼠口服LD50为5克/千克，常见的酒精和食盐的LD50值分别为7.06克/千克和3克/千克。<br/>　　也就是说，PX本身毒性低于酒精，但高于食盐。<br/>　　同样，美国得克萨斯州拉马尔大学化工系教授郭约翰表示，在美国，政府工业卫生学家会议（ACGIH）将PX归类为A4级，目前为止缺乏对人体、动物致癌性的证据。<br/>　　由此看来，PX并非一些媒体所称PX是剧毒化工品，专业知识的匮乏令一些媒体人云亦云，没有进行深一步的调查；用事实说话仍是媒体的立身之本。<br/>　　三、事件深层分析 据一位多年从事PX行业的业内人士表示，原本PX项目是很普通的化工项目，但这次大连PX化工厂事件影响如此之大，很可能在这个事件背后有一股无形的力量将大连PX化工厂推上了风口浪尖，这种无形的力量很可能来自国际竞争对手。了解PX上下游产业的人士都了解，PX是一种非常重要的有机化工原料，主要用于精对苯二甲酸（PTA）生产，PTA是生产聚酯的主要原料；其中，聚酯中的聚对苯二甲酸乙二酯（PET）就是用来制造饮料瓶的材料，PET进一步经纺丝等后续处理则可制成涤纶（衣服材质）。由此可见，PX的应用非常广泛，甚至从一定层面上讲，PX产业一定程度上对我国国计民生有着举足轻重的影响。但就是PX这样一种重要的化工原料，我国目前却依赖进口，受国外产业的控制。从20世纪90年代以来，中国聚酯行业迅速发展，带动PX生产能力和产量不断增加，但随着中国PTA生产迅速发展，PX消费量增长很快，很大一部分仍需通过进口解决。根据分析数据：2010年中国PX缺口为300万吨，至2013年将达到1100万吨。大连PX工厂产能为70万吨/年，在中国PX行业中的重要地位不言而喻。国际竞争对手很可能推动了本次大连PX化工厂停产危机，无非出于以下目的：其一，国际行业巨头操纵市场，牟取巨额利润。在世界供需平衡的情况下，国外PX行业大规模新建产能，目前日韩新建及扩产的PX工厂：现代与科斯莫合资的大山HCP石化（80万吨/年）、SK与日本JX合资的蔚山PX（100万吨/年）、GS加德士（100万吨/年）等等。而他们的主要销路在中国，他们看到了中国高速经济发展带来的需求，国内PX的紧缺，每年需要从国外大量进口，而中国政府也在大力发展PX行业，这是他们不希望看到的，找到任何一个契机，他们会想方设法的破坏中国的产业，然后再将产品高价卖给中国，牟取了巨额利润。其二，打击中国基础产业，破坏中国经济秩序。国际竞争对手利用一部分中国人对PX行业的无知，借台风“梅花”经过大连之际，将媒体舆论导向了大连PX工厂的停产搬迁，一旦目的得逞，大连PX工厂70万吨/年装置停产，势必会对国内PX、PTA，乃至下游聚酯、化纤行业产生巨大影响，进而影响下游产业的健康发展，严重打击中国的基础产业，扰乱中国经济秩序。其三，推动PX及下游产品价格上涨，加重中国的通货膨胀。2011年3月11日的日本地震，让我们看到了PX工厂停产所产生的巨大影响。地震使日本地区部分PX工厂停产，当天下午，亚洲市场PX价格就蹿升51.5美元/吨，14日暴涨110美元/吨，至15、16日继续攀升33.5美元/吨，PX价格达到了巅峰。2011年8月8日，大连PX工厂防波堤事件发生后，消息一出，8月11日亚洲PX价格上涨30美元/吨，8月17日上涨83.5美元/吨，成为继日本地震后第二次大幅度上涨。与此同时，国内PTA工厂原料采购成本大幅上涨， “当前PTA市场社会库存偏低，下游工厂需求稳定，将导致国内市场PTA价格呈成本推动型上涨态势”，生意社分析师夏婷说。另据国内一PTA工厂介绍：自8月16日起，该工厂在国内PTA市场率先涨价，而次日其他国内PTA生产商也开始调价，与此同时，郑州“PTA期货”主力合约也发生异动，17日PTA单日总持仓量翻番突破50万手，日成交量增长逾两倍逼近300万手，主力合约价格突破万元关口，飙升3.75%至100024元/吨。“PX供不应求，势必会造成国内PTA产量减少，下半年价格可能大幅上扬”，夏婷说。PTA是涤纶等化纤品主要原料，一旦PTA价格大幅上扬，石化产业链、甚至化纤纺织产业链成本将升高。这一连锁的反应，势必导致中国通货膨胀压力加剧，最终的受害者无非是中国的老百姓。 四、启示录 大连PX化工厂一旦倒闭、破产，直接的受益者将是PX国际竞争对手，特别是日本、韩国、美国PX工厂。中国的大连福佳大化倒下了，日本、韩国、美国竞争者却笑了。这是多么巨大的讽刺和笑话，中国的老百姓亲手做了：亲者痛、仇者快之事。在中国面临通胀加剧、世界经济环境不稳定的大环境下，我们更应该相信和支持中国的本土产业，才能摆脱国外竞争对手的控制，中国只能自力更生，发展自己的PX产业。另外，政府部门应该做好科学决策，在面对突发事件时应充分考虑到决策后可能发生的连锁反应，上下游如何处理。否则此例一开，国内的其它类似炼厂、石化厂怎么办，是不是都要搬迁呢？建议政府部门做好严肃认真的论证，必要时进行听证会，做好企业与民众的协调工作，既尊重了民众意见，又一定程度上保护了企业的发展。在此呼吁我国民众能够不要道听途说，支持民族产业的发展；毕竟，中国经济自立之路尚任重道远！<br/>　　四、启示录 大连PX化工厂一旦倒闭、破产，直接的受益者将是PX国际竞争对手，特别是日本、韩国、美国PX工厂。中国的大连福佳大化倒下了，日本、韩国、美国竞争者却笑了。这是多么巨大的讽刺和笑话，中国的老百姓亲手做了：亲者痛、仇者快之事。在中国面临通胀加剧、世界经济环境不稳定的大环境下，我们更应该相信和支持中国的本土产业，才能摆脱国外竞争对手的控制，中国只能自力更生，发展自己的PX产业。另外，政府部门应该做好科学决策，在面对突发事件时应充分考虑到决策后可能发生的连锁反应，上下游如何处理。否则此例一开，国内的其它类似炼厂、石化厂怎么办，是不是都要搬迁呢？建议政府部门做好严肃认真的论证，必要时进行听证会，做好企业与民众的协调工作，既尊重了民众意见，又一定程度上保护了企业的发展。在此呼吁我国民众能够不要道听途说，支持民族产业的发展；毕竟，中国经济自立之路尚任重道远！<br/>　　人们为何不喜欢“辟谣”？ <br/><br/>　　1.无法接受与自己认知冲突的事实<br/><br/>　　比如在PX事件中，不少网友（甚至是“公众知识分子”、“意见领袖”）都在传播“如果PX泄露或爆炸，大连就会被毁掉”，“大连意味着放了一颗原子弹，大连人民以后的生活将在白血病、畸形儿中度过”。<br/><br/><br/>　　实际上，PX本身并不是易爆物品，在常温下的爆炸可能性比较低。而作为一种基础的有机化合物，对PX毒性的研究国内国际已经做得相当多，在多个版本的化学品安全技术说明书中，都明确称PX为低毒物质。此外，美国国家环保局(US EPA)和国际癌症研究署(IARC)均未把PX列为致癌物质。<br/>　　————————————————————————<br/>　　求真相.<br/>　　是否属实。<br/>　　谁在背后群发短信？<br/>　　短信费用谁支付？\r\n",
      "\t\t\t\t\t\t\t\r\n",
      "\t\t\t\t\t\t\t\r\n",
      "\t\t\t\t\t\t</div>\n",
      "<div class=\"clearfix\" id=\"alt_action\"></div>\n",
      "<div class=\"clearfix mt20 mb10\">\n",
      "<div class=\"host-data\">\n",
      "<span>楼主发言：60次</span> <span>发图：0张</span> | <span class=\"acl-more\">更多</span>\n",
      "</div>\n",
      "<div class=\"atl-reply\" id=\"alt_reply\">\n",
      "<a author=\"zzjzzpgg12\" authorid=\"53134970\" class=\"reportme a-link\" href=\"javascript:void(0);\" replyid=\"0\" replytime=\"2012-10-28 21:08:00\"> 举报</a> | \r\n",
      "\t\t\t\t\t\t\t<a class=\"a-link acl-share\" href=\"javascript:void(0);\">分享</a> |\r\n",
      "\t\t\t               \t楼主 |\r\n",
      "\t\t\t\t\t\t\t<span class=\"tuijian\">\n",
      "<a class=\"a-link-2\" href=\"javascript:void(0);\">\n",
      "</a>\n",
      "<a _count=\"0\" class=\"zantop\" href=\"javascript:void(0);\">点赞</a>\n",
      "</span>\n",
      "</div>\n",
      "</div>\n",
      "<div id=\"ds-quick-box\" style=\"display:none;\"></div>\n",
      "</div>\n",
      "<div class=\"atl-con-ft clearfix\">\n",
      "<div class=\"atl-con-ft-l\"></div>\n",
      "<div class=\"atl-con-ft-r\"></div>\n",
      "</div>\n",
      "<div id=\"niuren_ifm\"></div>\n",
      "</div>\n",
      "</div>\n"
     ]
    }
   ],
   "source": [
    "print pa[0]"
   ]
  },
  {
   "cell_type": "code",
   "execution_count": 69,
   "metadata": {
    "ExecuteTime": {
     "end_time": "2017-05-13T15:06:30.176746",
     "start_time": "2017-05-13T15:06:30.172293"
    },
    "scrolled": true,
    "slideshow": {
     "slide_type": "subslide"
    }
   },
   "outputs": [
    {
     "name": "stdout",
     "output_type": "stream",
     "text": [
      "<div _host=\"zzjzzpgg12\" _hostid=\"53134970\" class=\"atl-item\" id=\"1\" js_restime=\"2012-10-28 21:14:25\" js_username=\"zzjzzpgg12\" replyid=\"92733518\">\n",
      "<div class=\"atl-head\" id=\"8cf559da49440878e76b86d047510091\">\n",
      "<div class=\"atl-head-reply\"></div>\n",
      "<div class=\"atl-info\">\n",
      "<span><strong class=\"host\">楼主</strong>：<a class=\"js-vip-check\" href=\"http://www.tianya.cn/53134970\" target=\"_blank\" uid=\"53134970\" uname=\"zzjzzpgg12\">zzjzzpgg12</a> </span>\n",
      "<span>时间：2012-10-28 21:14:25</span>\n",
      "</div>\n",
      "</div>\n",
      "<div class=\"atl-content\">\n",
      "<div class=\"atl-con-hd clearfix\">\n",
      "<div class=\"atl-con-hd-l\"></div>\n",
      "<div class=\"atl-con-hd-r\"></div>\n",
      "</div>\n",
      "<div class=\"atl-con-bd clearfix\">\n",
      "<div class=\"bbs-content\">\r\n",
      "\t\t\t\t\t\t\t　　百度：<br/>　　【熔点（℃）】13.2<br/>　　【沸点（℃）】138.5<br/>　　即正常情况下是液体？就是和水一样？<br/>　　在包括美国澳洲在内的很多国家,PX不算危险化学品，不过欧盟把PX列为有害品,是因为当人体吸入过量PX时,对眼及上呼吸道有刺激作用[1]。无论是危险标记、健康危害性、毒理学资料，还是在职业灾害防护等标准下，PX都不属高危高毒产品。长期反复直接接触PX会使皮肤脱脂，并有可能对中枢神经系统或听力有影响，也可能对人类生殖或发育造成毒性。国际评估化学品致癌的权威机构（IARC）对包括PX在内的整个二甲苯类的评估结果表明，PX致癌性证据尚不足，属于第三类致癌物质，即缺乏对人体致癌性证据的物质。美国政府工业卫生学家会议（ACGIH）将其归 类为A4级，即缺乏对人体、动物致癌性证据的物质。\r\n",
      "\t\t\t\t\t\t\t\r\n",
      "\t\t\t\t\t\t\t\r\n",
      "\t\t\t\t\t\t</div>\n",
      "<div class=\"atl-reply\">\n",
      "<a author=\"zzjzzpgg12\" authorid=\"53134970\" class=\"reportme a-link\" href=\"javascript:void(0);\" replyid=\"92733518\" replytime=\"2012-10-28 21:14:25\">举报</a> |\r\n",
      "\t\t\t\t\t\t\t\t\t\t\t\t\t\t\r\n",
      "\t\t\t\t\t\t\t<span>1楼</span> |\r\n",
      "\t\t\t\t\t\t\t<a class=\"a-link-2 ir-shang\" floor=\"1\" href=\"javascript:void(0);\" title=\"打赏层主\">\r\n",
      "\t\t\t\t\t\t\t\t打赏\r\n",
      "\t\t\t\t\t\t\t</a> |\r\n",
      "\t\t\t\t\t\t\t<a class=\"a-link-2 reply\" href=\"#fabu_anchor\" title=\"引用回复\">回复</a> |\r\n",
      "\t\t\t\t\t\t\t<a _stat=\"/stat/bbs/post/评论\" class=\"a-link-2 ir-remark\" floor=\"1\" href=\"javascript:void(0);\" title=\"插入评论\">\r\n",
      "\t\t\t\t\t\t\t\t评论\r\n",
      "\t\t\t\t\t\t\t</a> |\r\n",
      "\t\t\t\t\t\t\t<span class=\"tuijian\">\n",
      "<a _count=\"0\" class=\"zan\" href=\"javascript:void(0);\">赞</a>\n",
      "</span>\n",
      "</div>\n",
      "</div>\n",
      "<div class=\"atl-con-ft clearfix\">\n",
      "<div class=\"atl-con-ft-l\"></div>\n",
      "<div class=\"atl-con-ft-r\"></div>\n",
      "</div>\n",
      "</div>\n",
      "</div>\n"
     ]
    }
   ],
   "source": [
    "print pa[1]"
   ]
  },
  {
   "cell_type": "code",
   "execution_count": 70,
   "metadata": {
    "ExecuteTime": {
     "end_time": "2017-05-13T15:06:31.374063",
     "start_time": "2017-05-13T15:06:31.369874"
    },
    "slideshow": {
     "slide_type": "subslide"
    }
   },
   "outputs": [
    {
     "name": "stdout",
     "output_type": "stream",
     "text": [
      "<div _host=\"宗族群\" _hostid=\"73651072\" class=\"atl-item\" id=\"93\" js_restime=\"2012-10-29 09:22:47\" js_username=\"宗族群\" replyid=\"92733622\">\n",
      "<div class=\"atl-head\" id=\"671625cde97fe3be8715c46432b4bc18\">\n",
      "<div class=\"atl-head-reply\"></div>\n",
      "<div class=\"atl-info\">\n",
      "<span>作者：<a class=\"js-vip-check\" href=\"http://www.tianya.cn/73651072\" target=\"_blank\" uid=\"73651072\" uname=\"宗族群\">宗族群</a> </span>\n",
      "<span>时间：2012-10-29 09:22:47</span>\n",
      "</div>\n",
      "</div>\n",
      "<div class=\"atl-content\">\n",
      "<div class=\"atl-con-hd clearfix\">\n",
      "<div class=\"atl-con-hd-l\"></div>\n",
      "<div class=\"atl-con-hd-r\"></div>\n",
      "</div>\n",
      "<div class=\"atl-con-bd clearfix\">\n",
      "<div class=\"bbs-content\">\r\n",
      "\t\t\t\t\t\t\t　　中国现行的体制本身就是最大的毒素与污染！\r\n",
      "\t\t\t\t\t\t\t\r\n",
      "\t\t\t\t\t\t\t\r\n",
      "\t\t\t\t\t\t</div>\n",
      "<div class=\"atl-reply\">\n",
      "<a author=\"宗族群\" authorid=\"73651072\" class=\"reportme a-link\" href=\"javascript:void(0);\" replyid=\"92733622\" replytime=\"2012-10-29 09:22:47\">举报</a> |\r\n",
      "\t\t\t\t\t\t\t\t\t\t\t\t\t\t\r\n",
      "\t\t\t\t\t\t\t<span>93楼</span> |\r\n",
      "\t\t\t\t\t\t\t<a class=\"a-link-2 ir-shang\" floor=\"93\" href=\"javascript:void(0);\" title=\"打赏层主\">\r\n",
      "\t\t\t\t\t\t\t\t打赏\r\n",
      "\t\t\t\t\t\t\t</a> |\r\n",
      "\t\t\t\t\t\t\t<a class=\"a-link-2 reply\" href=\"#fabu_anchor\" title=\"引用回复\">回复</a> |\r\n",
      "\t\t\t\t\t\t\t<a _stat=\"/stat/bbs/post/评论\" class=\"a-link-2 ir-remark\" floor=\"93\" href=\"javascript:void(0);\" title=\"插入评论\">\r\n",
      "\t\t\t\t\t\t\t\t评论\r\n",
      "\t\t\t\t\t\t\t</a> |\r\n",
      "\t\t\t\t\t\t\t<span class=\"tuijian\">\n",
      "<a _count=\"0\" class=\"zan\" href=\"javascript:void(0);\">赞</a>\n",
      "</span>\n",
      "</div>\n",
      "</div>\n",
      "<div class=\"atl-con-ft clearfix\">\n",
      "<div class=\"atl-con-ft-l\"></div>\n",
      "<div class=\"atl-con-ft-r\"></div>\n",
      "</div>\n",
      "</div>\n",
      "</div>\n"
     ]
    }
   ],
   "source": [
    "print pa[89]"
   ]
  },
  {
   "cell_type": "markdown",
   "metadata": {
    "slideshow": {
     "slide_type": "slide"
    }
   },
   "source": [
    "作者：柠檬在追逐 时间：2012-10-28 21:33:55\n",
    "\n",
    "　　@lice5 2012-10-28 20:37:17\n",
    "  \n",
    "　　作为宁波人 还是说一句：革命尚未成功 同志仍需努力 \n",
    "  \n",
    "　　-----------------------------\n",
    "  \n",
    "　　对 现在说成功还太乐观，就怕说一套做一套"
   ]
  },
  {
   "cell_type": "markdown",
   "metadata": {
    "slideshow": {
     "slide_type": "fragment"
    }
   },
   "source": [
    "作者：lice5 时间：2012-10-28 20:37:17\n",
    "        \n",
    "　　作为宁波人 还是说一句：革命尚未成功 同志仍需努力"
   ]
  },
  {
   "cell_type": "markdown",
   "metadata": {
    "slideshow": {
     "slide_type": "fragment"
    }
   },
   "source": [
    "4\t/post-free-4242156-1.shtml\t2014-04-09 15:55:35\t61943225\t野渡自渡人\t@Y雷政府34楼2014-04-0422:30:34　　野渡君雄文！支持是必须的。　　-----------------------------　　@清坪过客16楼2014-04-0804:09:48　　绝对的权力导致绝对的腐败！　　-----------------------------　　@T大漠鱼T35楼2014-04-0810:17:27　　@周丕东@普欣@拾月霜寒2012@小摸包@姚文嚼字@四號@凌宸@乔志峰@野渡自渡人@曾兵2010@缠绕夜色@曾颖@风青扬请关注"
   ]
  },
  {
   "cell_type": "code",
   "execution_count": 71,
   "metadata": {
    "ExecuteTime": {
     "end_time": "2017-05-13T15:06:35.023753",
     "start_time": "2017-05-13T15:06:35.019776"
    },
    "slideshow": {
     "slide_type": "subslide"
    }
   },
   "outputs": [
    {
     "name": "stdout",
     "output_type": "stream",
     "text": [
      "一网友如下说：　　根据百度百科收录，PX是对二甲苯（Paraxylene）的简称，和苯、甲苯一样属于芳烃物质，外观为无色透明液体，稳定性较好，不溶于水，属低毒类化工品（其后说：“PX本身毒性低于酒精，但高于食盐。”），是作为合成聚酯纤维、树脂、涂料、染料和农药等的原料。　　在厦门PX事件中，被公众广为传播的一条短信这样描述PX的危害：建造PX项目意味着放了一颗原子弹，厦门人民以后将在白血病中度过。　　苯、芳烃、有机物等标签，让人们将PX与“高致癌物”联系在一起，但各种数据表明，PX其实是一种低毒性的化学品。笔者在此援引《科学时报》记者的调查结果：中科院化学所的实验室有机化学方向的一位博士生表示，“PX的毒性并不大，在有机化学中，PX是实验室中常用的有机溶剂；甚至有时候还用来擦洗物体上残留的顽固污渍。”。该博士生介绍的国际化学品安全说明书（MSDS）也显示，PX属低毒类化学物质。如果用“半数致死剂量（LD50）”的方法进行准确衡量，PX的大鼠口服LD50为5克/千克，常见的酒精和食盐的LD50值分别为7.06克/千克和3克/千克。　　也就是说，PX本身毒性低于酒精，但高于食盐。　　同样，美国得克萨斯州拉马尔大学化工系教授郭约翰表示，在美国，政府工业卫生学家会议（ACGIH）将PX归类为A4级，目前为止缺乏对人体、动物致癌性的证据。　　由此看来，PX并非一些媒体所称PX是剧毒化工品，专业知识的匮乏令一些媒体人云亦云，没有进行深一步的调查；用事实说话仍是媒体的立身之本。　　三、事件深层分析 据一位多年从事PX行业的业内人士表示，原本PX项目是很普通的化工项目，但这次大连PX化工厂事件影响如此之大，很可能在这个事件背后有一股无形的力量将大连PX化工厂推上了风口浪尖，这种无形的力量很可能来自国际竞争对手。了解PX上下游产业的人士都了解，PX是一种非常重要的有机化工原料，主要用于精对苯二甲酸（PTA）生产，PTA是生产聚酯的主要原料；其中，聚酯中的聚对苯二甲酸乙二酯（PET）就是用来制造饮料瓶的材料，PET进一步经纺丝等后续处理则可制成涤纶（衣服材质）。由此可见，PX的应用非常广泛，甚至从一定层面上讲，PX产业一定程度上对我国国计民生有着举足轻重的影响。但就是PX这样一种重要的化工原料，我国目前却依赖进口，受国外产业的控制。从20世纪90年代以来，中国聚酯行业迅速发展，带动PX生产能力和产量不断增加，但随着中国PTA生产迅速发展，PX消费量增长很快，很大一部分仍需通过进口解决。根据分析数据：2010年中国PX缺口为300万吨，至2013年将达到1100万吨。大连PX工厂产能为70万吨/年，在中国PX行业中的重要地位不言而喻。国际竞争对手很可能推动了本次大连PX化工厂停产危机，无非出于以下目的：其一，国际行业巨头操纵市场，牟取巨额利润。在世界供需平衡的情况下，国外PX行业大规模新建产能，目前日韩新建及扩产的PX工厂：现代与科斯莫合资的大山HCP石化（80万吨/年）、SK与日本JX合资的蔚山PX（100万吨/年）、GS加德士（100万吨/年）等等。而他们的主要销路在中国，他们看到了中国高速经济发展带来的需求，国内PX的紧缺，每年需要从国外大量进口，而中国政府也在大力发展PX行业，这是他们不希望看到的，找到任何一个契机，他们会想方设法的破坏中国的产业，然后再将产品高价卖给中国，牟取了巨额利润。其二，打击中国基础产业，破坏中国经济秩序。国际竞争对手利用一部分中国人对PX行业的无知，借台风“梅花”经过大连之际，将媒体舆论导向了大连PX工厂的停产搬迁，一旦目的得逞，大连PX工厂70万吨/年装置停产，势必会对国内PX、PTA，乃至下游聚酯、化纤行业产生巨大影响，进而影响下游产业的健康发展，严重打击中国的基础产业，扰乱中国经济秩序。其三，推动PX及下游产品价格上涨，加重中国的通货膨胀。2011年3月11日的日本地震，让我们看到了PX工厂停产所产生的巨大影响。地震使日本地区部分PX工厂停产，当天下午，亚洲市场PX价格就蹿升51.5美元/吨，14日暴涨110美元/吨，至15、16日继续攀升33.5美元/吨，PX价格达到了巅峰。2011年8月8日，大连PX工厂防波堤事件发生后，消息一出，8月11日亚洲PX价格上涨30美元/吨，8月17日上涨83.5美元/吨，成为继日本地震后第二次大幅度上涨。与此同时，国内PTA工厂原料采购成本大幅上涨， “当前PTA市场社会库存偏低，下游工厂需求稳定，将导致国内市场PTA价格呈成本推动型上涨态势”，生意社分析师夏婷说。另据国内一PTA工厂介绍：自8月16日起，该工厂在国内PTA市场率先涨价，而次日其他国内PTA生产商也开始调价，与此同时，郑州“PTA期货”主力合约也发生异动，17日PTA单日总持仓量翻番突破50万手，日成交量增长逾两倍逼近300万手，主力合约价格突破万元关口，飙升3.75%至100024元/吨。“PX供不应求，势必会造成国内PTA产量减少，下半年价格可能大幅上扬”，夏婷说。PTA是涤纶等化纤品主要原料，一旦PTA价格大幅上扬，石化产业链、甚至化纤纺织产业链成本将升高。这一连锁的反应，势必导致中国通货膨胀压力加剧，最终的受害者无非是中国的老百姓。 四、启示录 大连PX化工厂一旦倒闭、破产，直接的受益者将是PX国际竞争对手，特别是日本、韩国、美国PX工厂。中国的大连福佳大化倒下了，日本、韩国、美国竞争者却笑了。这是多么巨大的讽刺和笑话，中国的老百姓亲手做了：亲者痛、仇者快之事。在中国面临通胀加剧、世界经济环境不稳定的大环境下，我们更应该相信和支持中国的本土产业，才能摆脱国外竞争对手的控制，中国只能自力更生，发展自己的PX产业。另外，政府部门应该做好科学决策，在面对突发事件时应充分考虑到决策后可能发生的连锁反应，上下游如何处理。否则此例一开，国内的其它类似炼厂、石化厂怎么办，是不是都要搬迁呢？建议政府部门做好严肃认真的论证，必要时进行听证会，做好企业与民众的协调工作，既尊重了民众意见，又一定程度上保护了企业的发展。在此呼吁我国民众能够不要道听途说，支持民族产业的发展；毕竟，中国经济自立之路尚任重道远！　　四、启示录 大连PX化工厂一旦倒闭、破产，直接的受益者将是PX国际竞争对手，特别是日本、韩国、美国PX工厂。中国的大连福佳大化倒下了，日本、韩国、美国竞争者却笑了。这是多么巨大的讽刺和笑话，中国的老百姓亲手做了：亲者痛、仇者快之事。在中国面临通胀加剧、世界经济环境不稳定的大环境下，我们更应该相信和支持中国的本土产业，才能摆脱国外竞争对手的控制，中国只能自力更生，发展自己的PX产业。另外，政府部门应该做好科学决策，在面对突发事件时应充分考虑到决策后可能发生的连锁反应，上下游如何处理。否则此例一开，国内的其它类似炼厂、石化厂怎么办，是不是都要搬迁呢？建议政府部门做好严肃认真的论证，必要时进行听证会，做好企业与民众的协调工作，既尊重了民众意见，又一定程度上保护了企业的发展。在此呼吁我国民众能够不要道听途说，支持民族产业的发展；毕竟，中国经济自立之路尚任重道远！　　人们为何不喜欢“辟谣”？ 　　1.无法接受与自己认知冲突的事实　　比如在PX事件中，不少网友（甚至是“公众知识分子”、“意见领袖”）都在传播“如果PX泄露或爆炸，大连就会被毁掉”，“大连意味着放了一颗原子弹，大连人民以后的生活将在白血病、畸形儿中度过”。　　实际上，PX本身并不是易爆物品，在常温下的爆炸可能性比较低。而作为一种基础的有机化合物，对PX毒性的研究国内国际已经做得相当多，在多个版本的化学品安全技术说明书中，都明确称PX为低毒物质。此外，美国国家环保局(US EPA)和国际癌症研究署(IARC)均未把PX列为致癌物质。　　————————————————————————　　求真相.　　是否属实。　　谁在背后群发短信？　　短信费用谁支付？\n"
     ]
    }
   ],
   "source": [
    "print pa[0].find('div', {'class', 'bbs-content'}).text.strip()"
   ]
  },
  {
   "cell_type": "code",
   "execution_count": 72,
   "metadata": {
    "ExecuteTime": {
     "end_time": "2017-05-13T15:06:35.911705",
     "start_time": "2017-05-13T15:06:35.907708"
    },
    "slideshow": {
     "slide_type": "fragment"
    }
   },
   "outputs": [
    {
     "name": "stdout",
     "output_type": "stream",
     "text": [
      "回复第71楼(作者:@灰衣公子 于 2012-10-29 00:52) 　　楼主：六朝烟水满金陵 时间：2012-10-28 19:27:00 点击：4913 回复：112…… ==========　　总有人觉得自己与众不同，是在高高在上的看着别人。我不知道这位网友是在装，还是真那么高位。也许在你这样看别人是垃圾的时候，别人也是这样在看你的\n"
     ]
    }
   ],
   "source": [
    "print pa[87].find('div', {'class', 'bbs-content'}).text.strip()"
   ]
  },
  {
   "cell_type": "code",
   "execution_count": 73,
   "metadata": {
    "ExecuteTime": {
     "end_time": "2017-05-13T15:06:36.703491",
     "start_time": "2017-05-13T15:06:36.699324"
    },
    "slideshow": {
     "slide_type": "slide"
    }
   },
   "outputs": [
    {
     "data": {
      "text/plain": [
       "<a class=\"js-vip-check\" href=\"http://www.tianya.cn/53134970\" target=\"_blank\" uid=\"53134970\" uname=\"zzjzzpgg12\">zzjzzpgg12</a>"
      ]
     },
     "execution_count": 73,
     "metadata": {},
     "output_type": "execute_result"
    }
   ],
   "source": [
    "pa[1].a"
   ]
  },
  {
   "cell_type": "code",
   "execution_count": 74,
   "metadata": {
    "ExecuteTime": {
     "end_time": "2017-05-13T15:06:37.400349",
     "start_time": "2017-05-13T15:06:37.395831"
    },
    "slideshow": {
     "slide_type": "fragment"
    }
   },
   "outputs": [
    {
     "name": "stdout",
     "output_type": "stream",
     "text": [
      "<a author=\"zzjzzpgg12\" authorid=\"53134970\" class=\"reportme a-link\" href=\"javascript:void(0);\" replyid=\"0\" replytime=\"2012-10-28 21:08:00\"> 举报</a>\n"
     ]
    }
   ],
   "source": [
    "print pa[0].find('a', class_ = 'reportme a-link')"
   ]
  },
  {
   "cell_type": "code",
   "execution_count": 75,
   "metadata": {
    "ExecuteTime": {
     "end_time": "2017-05-13T15:06:38.141320",
     "start_time": "2017-05-13T15:06:38.137505"
    },
    "slideshow": {
     "slide_type": "fragment"
    }
   },
   "outputs": [
    {
     "name": "stdout",
     "output_type": "stream",
     "text": [
      "2012-10-28 21:08:00\n"
     ]
    }
   ],
   "source": [
    "print pa[0].find('a', class_ = 'reportme a-link')['replytime']"
   ]
  },
  {
   "cell_type": "code",
   "execution_count": 76,
   "metadata": {
    "ExecuteTime": {
     "end_time": "2017-05-13T15:06:38.808304",
     "start_time": "2017-05-13T15:06:38.804562"
    },
    "slideshow": {
     "slide_type": "fragment"
    }
   },
   "outputs": [
    {
     "name": "stdout",
     "output_type": "stream",
     "text": [
      "zzjzzpgg12\n"
     ]
    }
   ],
   "source": [
    "print pa[0].find('a', class_ = 'reportme a-link')['author']"
   ]
  },
  {
   "cell_type": "code",
   "execution_count": 77,
   "metadata": {
    "ExecuteTime": {
     "end_time": "2017-05-13T15:06:39.701245",
     "start_time": "2017-05-13T15:06:39.684067"
    },
    "slideshow": {
     "slide_type": "slide"
    }
   },
   "outputs": [
    {
     "name": "stdout",
     "output_type": "stream",
     "text": [
      "2012-10-28 21:08:00 ---> 53134970 ---> zzjzzpgg12 ---> 一网友如下说：　　根据百度百科收录，PX是对二甲苯（Paraxylene）的简称，和苯、甲苯一样属于芳烃物质，外观为无色透明液体，稳定性较好，不溶于水，属低毒类化工品（其后说：“PX本身毒性低于酒精，但高于食盐。”），是作为合成聚酯纤维、树脂、涂料、染料和农药等的原料。　　在厦门PX事件中，被公众广为传播的一条短信这样描述PX的危害：建造PX项目意味着放了一颗原子弹，厦门人民以后将在白血病中度过。　　苯、芳烃、有机物等标签，让人们将PX与“高致癌物”联系在一起，但各种数据表明，PX其实是一种低毒性的化学品。笔者在此援引《科学时报》记者的调查结果：中科院化学所的实验室有机化学方向的一位博士生表示，“PX的毒性并不大，在有机化学中，PX是实验室中常用的有机溶剂；甚至有时候还用来擦洗物体上残留的顽固污渍。”。该博士生介绍的国际化学品安全说明书（MSDS）也显示，PX属低毒类化学物质。如果用“半数致死剂量（LD50）”的方法进行准确衡量，PX的大鼠口服LD50为5克/千克，常见的酒精和食盐的LD50值分别为7.06克/千克和3克/千克。　　也就是说，PX本身毒性低于酒精，但高于食盐。　　同样，美国得克萨斯州拉马尔大学化工系教授郭约翰表示，在美国，政府工业卫生学家会议（ACGIH）将PX归类为A4级，目前为止缺乏对人体、动物致癌性的证据。　　由此看来，PX并非一些媒体所称PX是剧毒化工品，专业知识的匮乏令一些媒体人云亦云，没有进行深一步的调查；用事实说话仍是媒体的立身之本。　　三、事件深层分析 据一位多年从事PX行业的业内人士表示，原本PX项目是很普通的化工项目，但这次大连PX化工厂事件影响如此之大，很可能在这个事件背后有一股无形的力量将大连PX化工厂推上了风口浪尖，这种无形的力量很可能来自国际竞争对手。了解PX上下游产业的人士都了解，PX是一种非常重要的有机化工原料，主要用于精对苯二甲酸（PTA）生产，PTA是生产聚酯的主要原料；其中，聚酯中的聚对苯二甲酸乙二酯（PET）就是用来制造饮料瓶的材料，PET进一步经纺丝等后续处理则可制成涤纶（衣服材质）。由此可见，PX的应用非常广泛，甚至从一定层面上讲，PX产业一定程度上对我国国计民生有着举足轻重的影响。但就是PX这样一种重要的化工原料，我国目前却依赖进口，受国外产业的控制。从20世纪90年代以来，中国聚酯行业迅速发展，带动PX生产能力和产量不断增加，但随着中国PTA生产迅速发展，PX消费量增长很快，很大一部分仍需通过进口解决。根据分析数据：2010年中国PX缺口为300万吨，至2013年将达到1100万吨。大连PX工厂产能为70万吨/年，在中国PX行业中的重要地位不言而喻。国际竞争对手很可能推动了本次大连PX化工厂停产危机，无非出于以下目的：其一，国际行业巨头操纵市场，牟取巨额利润。在世界供需平衡的情况下，国外PX行业大规模新建产能，目前日韩新建及扩产的PX工厂：现代与科斯莫合资的大山HCP石化（80万吨/年）、SK与日本JX合资的蔚山PX（100万吨/年）、GS加德士（100万吨/年）等等。而他们的主要销路在中国，他们看到了中国高速经济发展带来的需求，国内PX的紧缺，每年需要从国外大量进口，而中国政府也在大力发展PX行业，这是他们不希望看到的，找到任何一个契机，他们会想方设法的破坏中国的产业，然后再将产品高价卖给中国，牟取了巨额利润。其二，打击中国基础产业，破坏中国经济秩序。国际竞争对手利用一部分中国人对PX行业的无知，借台风“梅花”经过大连之际，将媒体舆论导向了大连PX工厂的停产搬迁，一旦目的得逞，大连PX工厂70万吨/年装置停产，势必会对国内PX、PTA，乃至下游聚酯、化纤行业产生巨大影响，进而影响下游产业的健康发展，严重打击中国的基础产业，扰乱中国经济秩序。其三，推动PX及下游产品价格上涨，加重中国的通货膨胀。2011年3月11日的日本地震，让我们看到了PX工厂停产所产生的巨大影响。地震使日本地区部分PX工厂停产，当天下午，亚洲市场PX价格就蹿升51.5美元/吨，14日暴涨110美元/吨，至15、16日继续攀升33.5美元/吨，PX价格达到了巅峰。2011年8月8日，大连PX工厂防波堤事件发生后，消息一出，8月11日亚洲PX价格上涨30美元/吨，8月17日上涨83.5美元/吨，成为继日本地震后第二次大幅度上涨。与此同时，国内PTA工厂原料采购成本大幅上涨， “当前PTA市场社会库存偏低，下游工厂需求稳定，将导致国内市场PTA价格呈成本推动型上涨态势”，生意社分析师夏婷说。另据国内一PTA工厂介绍：自8月16日起，该工厂在国内PTA市场率先涨价，而次日其他国内PTA生产商也开始调价，与此同时，郑州“PTA期货”主力合约也发生异动，17日PTA单日总持仓量翻番突破50万手，日成交量增长逾两倍逼近300万手，主力合约价格突破万元关口，飙升3.75%至100024元/吨。“PX供不应求，势必会造成国内PTA产量减少，下半年价格可能大幅上扬”，夏婷说。PTA是涤纶等化纤品主要原料，一旦PTA价格大幅上扬，石化产业链、甚至化纤纺织产业链成本将升高。这一连锁的反应，势必导致中国通货膨胀压力加剧，最终的受害者无非是中国的老百姓。 四、启示录 大连PX化工厂一旦倒闭、破产，直接的受益者将是PX国际竞争对手，特别是日本、韩国、美国PX工厂。中国的大连福佳大化倒下了，日本、韩国、美国竞争者却笑了。这是多么巨大的讽刺和笑话，中国的老百姓亲手做了：亲者痛、仇者快之事。在中国面临通胀加剧、世界经济环境不稳定的大环境下，我们更应该相信和支持中国的本土产业，才能摆脱国外竞争对手的控制，中国只能自力更生，发展自己的PX产业。另外，政府部门应该做好科学决策，在面对突发事件时应充分考虑到决策后可能发生的连锁反应，上下游如何处理。否则此例一开，国内的其它类似炼厂、石化厂怎么办，是不是都要搬迁呢？建议政府部门做好严肃认真的论证，必要时进行听证会，做好企业与民众的协调工作，既尊重了民众意见，又一定程度上保护了企业的发展。在此呼吁我国民众能够不要道听途说，支持民族产业的发展；毕竟，中国经济自立之路尚任重道远！　　四、启示录 大连PX化工厂一旦倒闭、破产，直接的受益者将是PX国际竞争对手，特别是日本、韩国、美国PX工厂。中国的大连福佳大化倒下了，日本、韩国、美国竞争者却笑了。这是多么巨大的讽刺和笑话，中国的老百姓亲手做了：亲者痛、仇者快之事。在中国面临通胀加剧、世界经济环境不稳定的大环境下，我们更应该相信和支持中国的本土产业，才能摆脱国外竞争对手的控制，中国只能自力更生，发展自己的PX产业。另外，政府部门应该做好科学决策，在面对突发事件时应充分考虑到决策后可能发生的连锁反应，上下游如何处理。否则此例一开，国内的其它类似炼厂、石化厂怎么办，是不是都要搬迁呢？建议政府部门做好严肃认真的论证，必要时进行听证会，做好企业与民众的协调工作，既尊重了民众意见，又一定程度上保护了企业的发展。在此呼吁我国民众能够不要道听途说，支持民族产业的发展；毕竟，中国经济自立之路尚任重道远！　　人们为何不喜欢“辟谣”？ 　　1.无法接受与自己认知冲突的事实　　比如在PX事件中，不少网友（甚至是“公众知识分子”、“意见领袖”）都在传播“如果PX泄露或爆炸，大连就会被毁掉”，“大连意味着放了一颗原子弹，大连人民以后的生活将在白血病、畸形儿中度过”。　　实际上，PX本身并不是易爆物品，在常温下的爆炸可能性比较低。而作为一种基础的有机化合物，对PX毒性的研究国内国际已经做得相当多，在多个版本的化学品安全技术说明书中，都明确称PX为低毒物质。此外，美国国家环保局(US EPA)和国际癌症研究署(IARC)均未把PX列为致癌物质。　　————————————————————————　　求真相.　　是否属实。　　谁在背后群发短信？　　短信费用谁支付？ \n",
      "\n",
      "2012-10-28 21:14:25 ---> 53134970 ---> zzjzzpgg12 ---> 百度：　　【熔点（℃）】13.2　　【沸点（℃）】138.5　　即正常情况下是液体？就是和水一样？　　在包括美国澳洲在内的很多国家,PX不算危险化学品，不过欧盟把PX列为有害品,是因为当人体吸入过量PX时,对眼及上呼吸道有刺激作用[1]。无论是危险标记、健康危害性、毒理学资料，还是在职业灾害防护等标准下，PX都不属高危高毒产品。长期反复直接接触PX会使皮肤脱脂，并有可能对中枢神经系统或听力有影响，也可能对人类生殖或发育造成毒性。国际评估化学品致癌的权威机构（IARC）对包括PX在内的整个二甲苯类的评估结果表明，PX致癌性证据尚不足，属于第三类致癌物质，即缺乏对人体致癌性证据的物质。美国政府工业卫生学家会议（ACGIH）将其归 类为A4级，即缺乏对人体、动物致癌性证据的物质。 \n",
      "\n",
      "2012-10-28 21:18:41 ---> 71109541 ---> freeleelyf ---> 顶一下，很多人是不喜欢真相的。 \n",
      "\n",
      "2012-10-28 21:20:39 ---> 53134970 ---> zzjzzpgg12 ---> ...... \n",
      "\n",
      "2012-10-28 21:29:03 ---> 53134970 ---> zzjzzpgg12 ---> jy? \n",
      "\n",
      "2012-10-28 21:29:45 ---> 74194242 ---> 进退得失之间 ---> 放屁此项目生产中带来毒性比成品大多了 \n",
      "\n",
      "2012-10-28 21:40:52 ---> 44702877 ---> 梅有忧伤 ---> 5毛拿好　　既然“PX本身毒性低于酒精，但高于食盐”的结论都出来了　　赶紧滚回去让你的主子继续上项目 \n",
      "\n",
      "2012-10-28 21:42:24 ---> 75566230 ---> 维埃里w ---> 此事背后有天大的阴谋。 \n",
      "\n",
      "2012-10-28 21:49:02 ---> 53134970 ---> zzjzzpgg12 ---> @进退得失之间 5楼 　　放屁此项目生产中带来毒性比成品大多了　　-----------------------------　　《又毒又科学——接下来的工作安排》一文一开始就说：“我将委托专业人员将PX的毒性问题、生产原料及生产工艺所产生的毒性问题，陆续翻译介绍给大家——这方面的工作，我得到了美国宾西法尼亚大学专业人员的支持。”可是我等了整整半个月，还是不见“这方面的工作”有半个影子。这半个月里面，连岳先生的键盘和鼠标倒是使得挺勤，先后往他的网志上写了、转了十几篇有关厦门PX的文章，还有《孙悟空的小鸡鸡》这样的黄霑式的段子；可他越是这么勤快，我就越觉得着急。最后，终于还是忍不住亲自到中国图书馆，用了两个多小时，查阅了一本名为《芳烃工学》（赵仁殿等主编，化学工业出版社，2001年）的书，自己解答了自己的问题。　　不过，独知知不如众知知，光我一个人知道了PX的生产工艺显然是不够的，还应该告诉其他人。所以我又写了这第三篇和厦门PX有关的文章。顺便说一下，早先我在批伪环保的时候就发现，现在的城里人因为无知，对于工业——特别是重工业——有着一种莫名其妙的恐惧感，因此，早在今年年初的时候，我就计划开始写一本有关重工业的科普书，不过因为知识储备不够，一直没有动笔。现在这篇倒可以算是这本书的第一篇样稿，欢迎网上的各位读者在读过此文之后，到我的网志http://blog.sina.com.cn/huanerxin/来提提意见。 　　最近，厦门PX事件一度闹得沸沸扬扬，与和它几乎同时发生的太湖蓝藻事件堪称今年春夏之交的两大环保事件，因而引发了社会各界的纷纷议论。 　　处于这一事件漩涡中的，是两家名为腾龙芳烃和翔鹭石化的企业。它们要在离厦门本岛很近的海沧区建化工厂，分别生产两种名为PX（英文para-xylene的缩写，中名对-二甲苯）和PTA（英文pure terphthalic acid的缩写，中名精对苯二甲酸）的化工产品。由于以中科院院士、厦门大学教授赵玉芬为首的一些人在代表民众合理抗争的同时，却又无根据地宣称PX“属危险化学品和高致癌物，对胎儿有极高的致畸率”，并称这样的化工厂“至少要建立在100公里以外，城市才能算安全”，严重误导了民众，而网上又一直缺乏有力的反驳，我写了一篇题为《我看厦门PX事件》的文章，就PX的毒性问题做了澄清。但这点澄清显然是不够的，因为更多的人还想知道PX和PTA在生产过程中的副产物是不是高毒、高致癌性。这就必须把PX和PTA的生产过程介绍一下了。 　　1. 从石脑油和减压馏分油到重整生成油和裂化汽油 　　根据网上的资料，腾龙芳烃生产PX的原料是全馏分石脑油（96万吨／年）和减压馏分油（220万吨／年）。什么是全馏分石脑油？什么是减压馏分油？这要从石油的化学成分说起。 　　石油是一种主要由碳氢化合物（简称“烃”）组成的成分复杂的混合物。要想把石油用做化工原料，就必须把它“拆分”成一些组成成分相对比较简单的混合物。最简单、也是最常用的“拆分”方法，叫做分馏。它的原理很简单：石油的各个组分的沸点是不同的；把石油加热到一定温度，低沸点的组分就会先沸腾气化，而和母液分离，把这部分蒸气冷凝，就得到了一个低沸点的馏分；提高温度，较高沸点的组分又会接着沸腾气化，于是又可以分离出一个馏分…… 　　现在在石油化工上，把常压沸点在60℃－220℃之间的馏分，统称为石脑油（英文为naphtha）。如果一个馏分正好将这个沸程内的全部组分都包括进去了，那就叫做“全馏分石脑油”。全馏分石脑油以直链烃类（即分子中的碳原子排成一条链而不是一个环）为主成分。 　　因为烃类分子中的碳原子数目越多，沸点越高，而且彼此越来越接近，所以对于石油中那些含碳更多的烃类，用常压分馏不易分开。但在减压的情况下，其沸点不仅大大降低，而且彼此的间隔拉大了，因而也就容易分开了。所谓“减压馏分油”，就是指的利用减压分馏得到的比石脑油更重的常温常压下呈液态的石油馏分，其主成分也是直链烃类。 　　直链烃类不能直接用于生产PX，因为PX是芳烃，分子中的碳原子排成环状而不是链状。所以，全馏分石脑油和减压馏分油都必须经过处理，才能用于生产PX，不过处理的方法不一样。对全馏分石脑油，采用的技术叫做“连续重整”，是用含铂的催化剂把直链烃类变成芳烃，得到的产品叫“重整生成油”。对减压馏分油，采用的技术叫做“加氢裂化”，是用加氢催化的方法，把其分子中较长的碳链打断成较短的两截或多截，生成小分子的烃类，得到的产品叫“裂化汽油”。所以，重整生成油和裂化汽油中芳烃的含量都大大提高了。 　　这两步工艺的主要副产物是氢、甲烷、乙烷和液化石油气，而这些都是重要的化工原料或燃料，所以化工厂是不会把它们白白浪费掉的。而且这些气体都是低毒的，否则，玩氢气球的小孩、生活在沼气池旁边的农民和使用液化石油气生火做饭的人可就都危险了！ 　　2. 从重整生成油和裂化汽油到BTX 　　上文已述，重整生成油和裂化汽油中芳烃的含量都有所提高。得到这两样产品后，再经过一步分馏，专取其中含6个碳到8个碳（简作C6－C8，严格书写时，数字应写成下标的形式）的馏分，其中的主要成分基本就是苯、甲苯和二甲苯了。因为苯的英文是benzene，甲苯是toluene，二甲苯是xylene，所以三者合称BTX。再通过名为“抽提分离”的工艺，便可以把这三者分开。 　　这一步得到的主产物中，苯是著名的高毒性、高致癌性物质，甲苯和二甲苯的毒性都比较低，而且都没有证据表明它们是致癌物。副产物是C9以上的重油，则可以做为柴油使用。如果你不怕柴油味，那么你也不必怕这种副产的重油。　　3. 从甲苯到苯和二甲苯 　　在BTX中，甲苯的需求量较少。为了得到更多的PX，需要把甲苯转化为二甲苯。这一步工艺叫做“甲苯歧化”，就是把两分子的甲苯变成一分子的苯和一分子的二甲苯。副产物是C9以上的芳烃，一般产量很少，分离出来之后如果不作为燃油添加剂，直接烧掉即可。 　　由此可知，腾龙芳烃生产的苯有两个来源，或者是从重整生成油和裂化汽油中直接分离得到，或者是通过甲苯歧化得到。腾龙芳烃规划的苯产量是22.8万吨／年。 \n",
      "\n",
      "2012-10-28 21:50:02 ---> 53134970 ---> zzjzzpgg12 ---> 4. 从二甲苯到PX 　　二甲苯是邻-二甲苯（英ortho-xylene，缩写为OX）、间-二甲苯（英meta-xylene，缩写为MX）和对-二甲苯（PX）三者的混合物。三者都是重要的化工原料，但PX的需求量最大，OX次之，MX很少。为了得到更多的PX，还要再通过名为“二甲苯异构化”的工艺，把MX和OX转化为PX。腾龙芳烃规划的PX产量是80万吨/年，OX产量是16万吨/年，不产MX。 　　MX和OX的毒性和PX相仿，都是低毒物质，没有致癌性，但有一定的致畸性。这一步的副产物有少量的苯、甲苯和C9以上的芳烃，其中苯、甲苯分离出来后可以直接导回“甲苯歧化”的反应塔中循环使用，C9以上的芳烃的处理则上文已述。 　　以上四步在生产上是连续进行的，前一步的产物马上就做为后一步的原料，所以完成这四步的化工装置是紧密连合成一体的，化工上叫“芳烃联合装置”，而不存在中间产物长途运输的问题。当然，还有一个重要的副产物需要提一下，这就是硫化氢。硫化氢不是在上述四步反应中生成的，而是全馏分石脑油和减压馏分油中的杂质硫形成的。硫化氢具有高毒性，并且是重要的大气污染物，所以芳烃联合装置产生的废气必须经过脱硫处理。 　　5. 从PX到PTA 　　从PX到PTA，需要两步。第一步是把PX氧化成粗对苯二甲酸，第二步是通过加氢精制，除掉其中的一种名为4-羧基苯甲醛的杂质，而得到PTA。第一步需要把PX溶解在乙酸中反应，还要使用溴化物作为反应的促进剂，反应中会生成副产物乙酸甲酯，因而排出的废气中会含有PX、乙酸、乙酸甲酯和溴的蒸气。这就是为什么居住在海沧区的居民有时可以闻到翔鹭化纤排出的气体有淡淡的酸味的原因。虽然据厦门市环保局的解释，乙酸的排放量虽然超过了人的嗅阈，但仍符合排放标准，不会对人体造成危害，但天天闻酸味总不是一件愉快的事。所以厦门市环保局在接受采访时，说他们正在敦促翔鹭化纤（以及准备和腾龙芳烃80万吨PX配套建设的翔鹭石化150万吨PTA工程）采用国际上最先进的废气处理方法，尽可能地减少有异味的乙酸、乙酸甲酯的排放。　　把上面说的综合一下，就可以知道，整个PX和PTA的生产过程中，生成的高毒性或有高致癌性的物质，不过苯和硫化氢两种，此外还有乙酸、乙酸甲酯具有令人不快的异味。知道了这些，厦门民众就可以有针对性地要求和监督腾龙芳烃和翔鹭石化两家公司有效地减少这些物质的排放或泄漏，而不是在无知的情况下，没有凭据地幻想PX和PTA的生产过程中会有多少高毒、高致癌性的物质产生，并用这种空话作为维权的依据。两种情况下，孰者可以提高维权的效率，不是一目了然吗？ \n",
      "\n"
     ]
    }
   ],
   "source": [
    "for i in pa[:10]:\n",
    "    p_info = i.find('a', class_ = 'reportme a-link')\n",
    "    p_time = p_info['replytime']\n",
    "    p_author_id = p_info['authorid']\n",
    "    p_author_name = p_info['author']\n",
    "    p_content = i.find('div', {'class', 'bbs-content'}).text.strip()\n",
    "    p_content = p_content.replace('\\t', '')\n",
    "    print p_time, '--->', p_author_id, '--->', p_author_name,'--->', p_content, '\\n'"
   ]
  },
  {
   "cell_type": "markdown",
   "metadata": {
    "slideshow": {
     "slide_type": "slide"
    }
   },
   "source": [
    "# 如何翻页\n",
    "\n",
    "http://bbs.tianya.cn/post-free-2848797-1.shtml\n",
    "    \n",
    "    http://bbs.tianya.cn/post-free-2848797-2.shtml\n",
    "        \n",
    "        http://bbs.tianya.cn/post-free-2848797-3.shtml"
   ]
  },
  {
   "cell_type": "code",
   "execution_count": 78,
   "metadata": {
    "ExecuteTime": {
     "end_time": "2017-05-13T15:06:41.381934",
     "start_time": "2017-05-13T15:06:41.370692"
    },
    "slideshow": {
     "slide_type": "fragment"
    }
   },
   "outputs": [
    {
     "data": {
      "text/plain": [
       "<div class=\"atl-pages\"><form action=\"\" method=\"get\" onsubmit=\"return goPage(this,'free',2848995,9);\">\\n<span>\\u4e0a\\u9875</span>\\n<strong>1</strong>\\n<a href=\"/post-free-2848995-2.shtml\">2</a>\\n<a href=\"/post-free-2848995-3.shtml\">3</a>\\n<a href=\"/post-free-2848995-4.shtml\">4</a>\\n\\u2026\\n<a href=\"/post-free-2848995-9.shtml\">9</a>\\n<a class=\"js-keyboard-next\" href=\"/post-free-2848995-2.shtml\">\\u4e0b\\u9875</a>\\n\\xa0\\u5230<input class=\"pagetxt\" name=\"page\" type=\"text\"/>\\u9875\\xa0<input class=\"pagebtn\" maxlength=\"6\" name=\"gopage\" type=\"submit\" value=\"\\u786e\\u5b9a\"/></form></div>"
      ]
     },
     "execution_count": 78,
     "metadata": {},
     "output_type": "execute_result"
    }
   ],
   "source": [
    "post_soup.find('div', {'class', 'atl-pages'})#.['onsubmit']"
   ]
  },
  {
   "cell_type": "code",
   "execution_count": 79,
   "metadata": {
    "ExecuteTime": {
     "end_time": "2017-05-13T15:06:42.062026",
     "start_time": "2017-05-13T15:06:42.051559"
    },
    "slideshow": {
     "slide_type": "fragment"
    }
   },
   "outputs": [
    {
     "data": {
      "text/plain": [
       "'9'"
      ]
     },
     "execution_count": 79,
     "metadata": {},
     "output_type": "execute_result"
    }
   ],
   "source": [
    "post_pages = post_soup.find('div', {'class', 'atl-pages'})\n",
    "post_pages = post_pages.form['onsubmit'].split(',')[-1].split(')')[0]\n",
    "post_pages\n",
    "#post_soup.select('.atl-pages')[0].select('form')[0].select('onsubmit')\n"
   ]
  },
  {
   "cell_type": "code",
   "execution_count": 80,
   "metadata": {
    "ExecuteTime": {
     "end_time": "2017-05-13T15:06:42.929978",
     "start_time": "2017-05-13T15:06:42.925004"
    },
    "slideshow": {
     "slide_type": "subslide"
    }
   },
   "outputs": [
    {
     "data": {
      "text/plain": [
       "'http://bbs.tianya.cn/postfree2848995-%d.shtml'"
      ]
     },
     "execution_count": 80,
     "metadata": {},
     "output_type": "execute_result"
    }
   ],
   "source": [
    "url = 'http://bbs.tianya.cn' + df.link[2]\n",
    "url_base = ''.join(url.split('-')[:-1]) + '-%d.shtml'\n",
    "url_base"
   ]
  },
  {
   "cell_type": "code",
   "execution_count": 102,
   "metadata": {
    "ExecuteTime": {
     "end_time": "2017-05-13T15:39:56.454110",
     "start_time": "2017-05-13T15:39:56.444453"
    },
    "slideshow": {
     "slide_type": "slide"
    }
   },
   "outputs": [],
   "source": [
    "def parsePage(pa):\n",
    "    records = []\n",
    "    for i in pa:\n",
    "        p_info = i.find('a', class_ = 'reportme a-link')\n",
    "        p_time = p_info['replytime']\n",
    "        p_author_id = p_info['authorid']\n",
    "        p_author_name = p_info['author']\n",
    "        p_content = i.find('div', {'class', 'bbs-content'}).text.strip()\n",
    "        p_content = p_content.replace('\\t', '').replace('\\n', '')#.replace(' ', '')\n",
    "        record = p_time + '\\t' + p_author_id+ '\\t' + p_author_name + '\\t'+ p_content\n",
    "        records.append(record)\n",
    "    return records\n",
    "\n",
    "import sys\n",
    "def flushPrint(s):\n",
    "    sys.stdout.write('\\r')\n",
    "    sys.stdout.write('%s' % s)\n",
    "    sys.stdout.flush()"
   ]
  },
  {
   "cell_type": "code",
   "execution_count": 103,
   "metadata": {
    "ExecuteTime": {
     "end_time": "2017-05-13T15:39:58.191166",
     "start_time": "2017-05-13T15:39:57.315057"
    },
    "slideshow": {
     "slide_type": "slide"
    }
   },
   "outputs": [
    {
     "data": {
      "text/plain": [
       "<div class=\"atl-pages host-pages\"></div>"
      ]
     },
     "execution_count": 103,
     "metadata": {},
     "output_type": "execute_result"
    }
   ],
   "source": [
    "url_1 = 'http://bbs.tianya.cn' + df.link[10]\n",
    "content = urllib2.urlopen(url_1).read() #获取网页的html文本\n",
    "post_soup = BeautifulSoup(content, \"lxml\") \n",
    "pa = post_soup.find_all('div', {'class', 'atl-item'})\n",
    "b = post_soup.find('div', class_= 'atl-pages')\n",
    "b"
   ]
  },
  {
   "cell_type": "code",
   "execution_count": 104,
   "metadata": {
    "ExecuteTime": {
     "end_time": "2017-05-13T15:39:59.263776",
     "start_time": "2017-05-13T15:39:58.984217"
    },
    "slideshow": {
     "slide_type": "fragment"
    }
   },
   "outputs": [
    {
     "data": {
      "text/plain": [
       "<div class=\"atl-pages\"><form action=\"\" method=\"get\" onsubmit=\"return goPage(this,'free',2839539,11);\">\\n<span>\\u4e0a\\u9875</span>\\n<strong>1</strong>\\n<a href=\"/post-free-2839539-2.shtml\">2</a>\\n<a href=\"/post-free-2839539-3.shtml\">3</a>\\n<a href=\"/post-free-2839539-4.shtml\">4</a>\\n\\u2026\\n<a href=\"/post-free-2839539-11.shtml\">11</a>\\n<a class=\"js-keyboard-next\" href=\"/post-free-2839539-2.shtml\">\\u4e0b\\u9875</a>\\n\\xa0\\u5230<input class=\"pagetxt\" name=\"page\" type=\"text\"/>\\u9875\\xa0<input class=\"pagebtn\" maxlength=\"6\" name=\"gopage\" type=\"submit\" value=\"\\u786e\\u5b9a\"/></form></div>"
      ]
     },
     "execution_count": 104,
     "metadata": {},
     "output_type": "execute_result"
    }
   ],
   "source": [
    "url_1 = 'http://bbs.tianya.cn' + df.link[0]\n",
    "content = urllib2.urlopen(url_1).read() #获取网页的html文本\n",
    "post_soup = BeautifulSoup(content, \"lxml\") \n",
    "pa = post_soup.find_all('div', {'class', 'atl-item'})\n",
    "a = post_soup.find('div', {'class', 'atl-pages'})\n",
    "a"
   ]
  },
  {
   "cell_type": "code",
   "execution_count": 105,
   "metadata": {
    "ExecuteTime": {
     "end_time": "2017-05-13T15:40:01.297571",
     "start_time": "2017-05-13T15:40:01.291071"
    },
    "slideshow": {
     "slide_type": "subslide"
    }
   },
   "outputs": [
    {
     "data": {
      "text/plain": [
       "<form action=\"\" method=\"get\" onsubmit=\"return goPage(this,'free',2839539,11);\">\\n<span>\\u4e0a\\u9875</span>\\n<strong>1</strong>\\n<a href=\"/post-free-2839539-2.shtml\">2</a>\\n<a href=\"/post-free-2839539-3.shtml\">3</a>\\n<a href=\"/post-free-2839539-4.shtml\">4</a>\\n\\u2026\\n<a href=\"/post-free-2839539-11.shtml\">11</a>\\n<a class=\"js-keyboard-next\" href=\"/post-free-2839539-2.shtml\">\\u4e0b\\u9875</a>\\n\\xa0\\u5230<input class=\"pagetxt\" name=\"page\" type=\"text\"/>\\u9875\\xa0<input class=\"pagebtn\" maxlength=\"6\" name=\"gopage\" type=\"submit\" value=\"\\u786e\\u5b9a\"/></form>"
      ]
     },
     "execution_count": 105,
     "metadata": {},
     "output_type": "execute_result"
    }
   ],
   "source": [
    "a.form"
   ]
  },
  {
   "cell_type": "code",
   "execution_count": 85,
   "metadata": {
    "ExecuteTime": {
     "end_time": "2017-05-13T15:06:49.510779",
     "start_time": "2017-05-13T15:06:49.507195"
    },
    "slideshow": {
     "slide_type": "fragment"
    }
   },
   "outputs": [
    {
     "name": "stdout",
     "output_type": "stream",
     "text": [
      "false\n"
     ]
    }
   ],
   "source": [
    "if b.form:\n",
    "    print 'true'\n",
    "else:\n",
    "    print 'false'"
   ]
  },
  {
   "cell_type": "code",
   "execution_count": 106,
   "metadata": {
    "ExecuteTime": {
     "end_time": "2017-05-13T15:40:04.359173",
     "start_time": "2017-05-13T15:40:04.339587"
    },
    "slideshow": {
     "slide_type": "slide"
    }
   },
   "outputs": [],
   "source": [
    "import random\n",
    "import time\n",
    "\n",
    "def crawler(url, file_name):\n",
    "    try:\n",
    "        # open the browser\n",
    "        url_1 = 'http://bbs.tianya.cn' + url\n",
    "        content = urllib2.urlopen(url_1).read() #获取网页的html文本\n",
    "        post_soup = BeautifulSoup(content, \"lxml\") \n",
    "        # how many pages in a post\n",
    "        post_form = post_soup.find('div', {'class', 'atl-pages'})\n",
    "        if post_form.form:\n",
    "            post_pages = post_form.form['onsubmit'].split(',')[-1].split(')')[0]\n",
    "            post_pages = int(post_pages)\n",
    "            url_base = '-'.join(url_1.split('-')[:-1]) + '-%d.shtml'\n",
    "        else:\n",
    "            post_pages = 1\n",
    "        # for the first page\n",
    "        pa = post_soup.find_all('div', {'class', 'atl-item'})\n",
    "        records = parsePage(pa)\n",
    "        with open(file_name,'a') as p: # '''Note'''：Ａppend mode, run only once!\n",
    "            for record in records:    \n",
    "                p.write('1'+ '\\t' + url + '\\t' + record.encode('utf-8')+\"\\n\") \n",
    "        # for the 2nd+ pages\n",
    "        if post_pages > 1:\n",
    "            for page_num in range(2, post_pages+1):\n",
    "                time.sleep(random.random())\n",
    "                flushPrint(page_num)\n",
    "                url2 =url_base  % page_num\n",
    "                content = urllib2.urlopen(url2).read() #获取网页的html文本\n",
    "                post_soup = BeautifulSoup(content, \"lxml\") \n",
    "                pa = post_soup.find_all('div', {'class', 'atl-item'})\n",
    "                records = parsePage(pa)\n",
    "                with open(file_name,'a') as p: # '''Note'''：Ａppend mode, run only once!\n",
    "                    for record in records:    \n",
    "                        p.write(str(page_num) + '\\t' +url + '\\t' + record.encode('utf-8')+\"\\n\") \n",
    "        else:\n",
    "            pass\n",
    "    except Exception, e:\n",
    "        print e\n",
    "        pass"
   ]
  },
  {
   "cell_type": "markdown",
   "metadata": {
    "slideshow": {
     "slide_type": "slide"
    }
   },
   "source": [
    "# 测试"
   ]
  },
  {
   "cell_type": "code",
   "execution_count": 107,
   "metadata": {
    "ExecuteTime": {
     "end_time": "2017-05-13T15:40:22.672483",
     "start_time": "2017-05-13T15:40:09.407799"
    },
    "slideshow": {
     "slide_type": "fragment"
    }
   },
   "outputs": [
    {
     "name": "stdout",
     "output_type": "stream",
     "text": [
      "9"
     ]
    }
   ],
   "source": [
    "url = df.link[2]\n",
    "file_name = '/Users/chengjun/github/cjc/data/tianya_bbs_threads_4test.txt'\n",
    "crawler(url, file_name)"
   ]
  },
  {
   "cell_type": "markdown",
   "metadata": {
    "slideshow": {
     "slide_type": "slide"
    }
   },
   "source": [
    "# 正式抓取！"
   ]
  },
  {
   "cell_type": "code",
   "execution_count": 108,
   "metadata": {
    "ExecuteTime": {
     "end_time": "2017-05-13T15:43:51.875960",
     "start_time": "2017-05-13T15:40:51.737574"
    },
    "slideshow": {
     "slide_type": "fragment"
    }
   },
   "outputs": [
    {
     "name": "stdout",
     "output_type": "stream",
     "text": [
      "/post-free-2839539-1.shtmlThis it the post of : 0\n",
      "/post-free-923115-1.shtmlThis it the post of : 10\n",
      "/post-free-944280-1.shtmlThis it the post of : 20\n",
      "/post-free-3324751-1.shtmlThis it the post of : 30\n",
      "/post-free-3361796-1.shtmlThis it the post of : 40\n",
      "/post-free-3533685-1.shtmlThis it the post of : 50\n",
      "/post-free-4242705-1.shtmlThis it the post of : 60\n",
      "/post-free-3291045-1.shtmlThis it the post of : 70\n",
      "/post-free-1066741-1.shtmlThis it the post of : 80\n",
      "/post-free-3312925-1.shtmlThis it the post of : 90\n",
      "/post-free-3834860-1.shtmlThis it the post of : 100\n",
      "/post-free-1079222-1.shtmlThis it the post of : 110\n",
      "/post-free-4236159-1.shtmlThis it the post of : 120\n",
      "/post-free-3282507-1.shtmlThis it the post of : 130\n",
      "/post-free-3394373-1.shtmlThis it the post of : 140\n",
      "/post-free-3352554-1.shtmlThis it the post of : 150\n",
      "/post-free-3294035-1.shtmlThis it the post of : 160\n",
      "/post-free-3305558-1.shtmlThis it the post of : 170\n",
      "/post-free-3228423-1.shtmlThis it the post of : 180\n",
      "/post-free-3422932-1.shtmlThis it the post of : 190\n",
      "/post-free-5041677-1.shtmlThis it the post of : 200\n",
      "/post-free-3358773-1.shtmlThis it the post of : 210\n",
      "/post-free-3292069-1.shtmlThis it the post of : 220\n",
      "/post-free-3295543-1.shtmlThis it the post of : 230\n",
      "/post-free-3392803-1.shtmlThis it the post of : 240\n",
      "/post-free-3357167-1.shtmlThis it the post of : 250\n",
      "/post-free-3838025-1.shtmlThis it the post of : 260\n",
      "/post-free-3297654-1.shtmlThis it the post of : 270\n",
      "/post-free-3835212-1.shtmlThis it the post of : 280\n",
      "/post-free-3368642-1.shtmlThis it the post of : 290\n",
      "/post-free-3834848-1.shtmlThis it the post of : 300\n",
      "/post-free-3349205-1.shtmlThis it the post of : 310\n",
      "/post-free-4250606-1.shtmlThis it the post of : 320\n",
      "/post-free-4238515-1.shtmlThis it the post of : 330\n",
      "/post-free-3359727-1.shtmlThis it the post of : 340\n",
      "/post-free-3375413-1.shtmlThis it the post of : 350\n",
      "/post-free-3835300-1.shtmlThis it the post of : 360\n",
      "/post-free-4250344-1.shtmlThis it the post of : 370\n",
      "/post-free-3837990-1.shtmlThis it the post of : 380\n",
      "/post-free-3834886-1.shtmlThis it the post of : 390\n",
      "/post-free-3293952-1.shtmlThis it the post of : 400\n",
      "/post-free-3832823-1.shtmlThis it the post of : 410\n",
      "/post-free-4076191-1.shtmlThis it the post of : 420\n",
      "/post-free-3830965-1.shtmlThis it the post of : 430\n",
      "/post-free-5705528-1.shtml"
     ]
    }
   ],
   "source": [
    "for k, link in enumerate(df.link):\n",
    "    flushPrint(link)\n",
    "    if k % 10== 0:\n",
    "        print 'This it the post of : ' + str(k)\n",
    "    file_name = '/Users/chengjun/github/cjc/data/tianya_bbs_threads_network_2017.txt'\n",
    "    crawler(link, file_name)"
   ]
  },
  {
   "cell_type": "markdown",
   "metadata": {
    "slideshow": {
     "slide_type": "slide"
    }
   },
   "source": [
    "# 读取数据"
   ]
  },
  {
   "cell_type": "code",
   "execution_count": 109,
   "metadata": {
    "ExecuteTime": {
     "end_time": "2017-05-13T15:44:12.060351",
     "start_time": "2017-05-13T15:44:12.039185"
    },
    "slideshow": {
     "slide_type": "fragment"
    }
   },
   "outputs": [
    {
     "data": {
      "text/plain": [
       "5277"
      ]
     },
     "execution_count": 109,
     "metadata": {},
     "output_type": "execute_result"
    }
   ],
   "source": [
    "dtt = []\n",
    "with open('/Users/chengjun/github/cjc/data/tianya_bbs_threads_network_2017.txt', 'r') as f:\n",
    "    for line in f:\n",
    "        pnum, link, time, author_id, author, content = line.replace('\\n', '').split('\\t')\n",
    "        dtt.append([pnum, link, time, author_id, author, content])\n",
    "len(dtt)"
   ]
  },
  {
   "cell_type": "code",
   "execution_count": 110,
   "metadata": {
    "ExecuteTime": {
     "end_time": "2017-05-13T15:44:15.550180",
     "start_time": "2017-05-13T15:44:15.532087"
    },
    "slideshow": {
     "slide_type": "slide"
    }
   },
   "outputs": [
    {
     "data": {
      "text/html": [
       "<div>\n",
       "<table border=\"1\" class=\"dataframe\">\n",
       "  <thead>\n",
       "    <tr style=\"text-align: right;\">\n",
       "      <th></th>\n",
       "      <th>0</th>\n",
       "      <th>1</th>\n",
       "      <th>2</th>\n",
       "      <th>3</th>\n",
       "      <th>4</th>\n",
       "      <th>5</th>\n",
       "    </tr>\n",
       "  </thead>\n",
       "  <tbody>\n",
       "    <tr>\n",
       "      <th>0</th>\n",
       "      <td>1</td>\n",
       "      <td>/post-free-2839539-1.shtml</td>\n",
       "      <td>2012-10-24 12:41:00</td>\n",
       "      <td>74341835</td>\n",
       "      <td>无上卫士ABC</td>\n",
       "      <td>2012-10-24 10:42:47　来源: 人民网(北京)　　　核心提示：10月初，宁波...</td>\n",
       "    </tr>\n",
       "    <tr>\n",
       "      <th>1</th>\n",
       "      <td>1</td>\n",
       "      <td>/post-free-2839539-1.shtml</td>\n",
       "      <td>2012-10-24 13:26:06</td>\n",
       "      <td>74422795</td>\n",
       "      <td>16号渔政船</td>\n",
       "      <td>对，当官的住两年试试我们就信了</td>\n",
       "    </tr>\n",
       "    <tr>\n",
       "      <th>2</th>\n",
       "      <td>1</td>\n",
       "      <td>/post-free-2839539-1.shtml</td>\n",
       "      <td>2012-10-24 14:02:37</td>\n",
       "      <td>15068828</td>\n",
       "      <td>fossil2918</td>\n",
       "      <td>广大网民理性表达网络民意，不传播、不轻信网上不实信息，共同维护社会和谐稳定大局。</td>\n",
       "    </tr>\n",
       "    <tr>\n",
       "      <th>3</th>\n",
       "      <td>1</td>\n",
       "      <td>/post-free-2839539-1.shtml</td>\n",
       "      <td>2012-10-25 14:25:31</td>\n",
       "      <td>75446299</td>\n",
       "      <td>一言难尽XCSTZ</td>\n",
       "      <td>这样啊</td>\n",
       "    </tr>\n",
       "    <tr>\n",
       "      <th>4</th>\n",
       "      <td>1</td>\n",
       "      <td>/post-free-2839539-1.shtml</td>\n",
       "      <td>2012-10-25 14:49:59</td>\n",
       "      <td>18135446</td>\n",
       "      <td>owekoker07298</td>\n",
       "      <td>关注</td>\n",
       "    </tr>\n",
       "  </tbody>\n",
       "</table>\n",
       "</div>"
      ],
      "text/plain": [
       "   0                           1                    2         3  \\\n",
       "0  1  /post-free-2839539-1.shtml  2012-10-24 12:41:00  74341835   \n",
       "1  1  /post-free-2839539-1.shtml  2012-10-24 13:26:06  74422795   \n",
       "2  1  /post-free-2839539-1.shtml  2012-10-24 14:02:37  15068828   \n",
       "3  1  /post-free-2839539-1.shtml  2012-10-25 14:25:31  75446299   \n",
       "4  1  /post-free-2839539-1.shtml  2012-10-25 14:49:59  18135446   \n",
       "\n",
       "               4                                                  5  \n",
       "0        无上卫士ABC  2012-10-24 10:42:47　来源: 人民网(北京)　　　核心提示：10月初，宁波...  \n",
       "1         16号渔政船                                    对，当官的住两年试试我们就信了  \n",
       "2     fossil2918           广大网民理性表达网络民意，不传播、不轻信网上不实信息，共同维护社会和谐稳定大局。  \n",
       "3      一言难尽XCSTZ                                                这样啊  \n",
       "4  owekoker07298                                                 关注  "
      ]
     },
     "execution_count": 110,
     "metadata": {},
     "output_type": "execute_result"
    }
   ],
   "source": [
    "dt = pd.DataFrame(dtt)\n",
    "dt[:5]"
   ]
  },
  {
   "cell_type": "code",
   "execution_count": 111,
   "metadata": {
    "ExecuteTime": {
     "end_time": "2017-05-13T15:44:16.788166",
     "start_time": "2017-05-13T15:44:16.770670"
    },
    "slideshow": {
     "slide_type": "subslide"
    }
   },
   "outputs": [
    {
     "data": {
      "text/html": [
       "<div>\n",
       "<table border=\"1\" class=\"dataframe\">\n",
       "  <thead>\n",
       "    <tr style=\"text-align: right;\">\n",
       "      <th></th>\n",
       "      <th>page_num</th>\n",
       "      <th>link</th>\n",
       "      <th>time</th>\n",
       "      <th>author</th>\n",
       "      <th>author_name</th>\n",
       "      <th>reply</th>\n",
       "    </tr>\n",
       "  </thead>\n",
       "  <tbody>\n",
       "    <tr>\n",
       "      <th>0</th>\n",
       "      <td>1</td>\n",
       "      <td>/post-free-2839539-1.shtml</td>\n",
       "      <td>2012-10-24 12:41:00</td>\n",
       "      <td>74341835</td>\n",
       "      <td>无上卫士ABC</td>\n",
       "      <td>2012-10-24 10:42:47　来源: 人民网(北京)　　　核心提示：10月初，宁波...</td>\n",
       "    </tr>\n",
       "    <tr>\n",
       "      <th>1</th>\n",
       "      <td>1</td>\n",
       "      <td>/post-free-2839539-1.shtml</td>\n",
       "      <td>2012-10-24 13:26:06</td>\n",
       "      <td>74422795</td>\n",
       "      <td>16号渔政船</td>\n",
       "      <td>对，当官的住两年试试我们就信了</td>\n",
       "    </tr>\n",
       "    <tr>\n",
       "      <th>2</th>\n",
       "      <td>1</td>\n",
       "      <td>/post-free-2839539-1.shtml</td>\n",
       "      <td>2012-10-24 14:02:37</td>\n",
       "      <td>15068828</td>\n",
       "      <td>fossil2918</td>\n",
       "      <td>广大网民理性表达网络民意，不传播、不轻信网上不实信息，共同维护社会和谐稳定大局。</td>\n",
       "    </tr>\n",
       "    <tr>\n",
       "      <th>3</th>\n",
       "      <td>1</td>\n",
       "      <td>/post-free-2839539-1.shtml</td>\n",
       "      <td>2012-10-25 14:25:31</td>\n",
       "      <td>75446299</td>\n",
       "      <td>一言难尽XCSTZ</td>\n",
       "      <td>这样啊</td>\n",
       "    </tr>\n",
       "    <tr>\n",
       "      <th>4</th>\n",
       "      <td>1</td>\n",
       "      <td>/post-free-2839539-1.shtml</td>\n",
       "      <td>2012-10-25 14:49:59</td>\n",
       "      <td>18135446</td>\n",
       "      <td>owekoker07298</td>\n",
       "      <td>关注</td>\n",
       "    </tr>\n",
       "  </tbody>\n",
       "</table>\n",
       "</div>"
      ],
      "text/plain": [
       "  page_num                        link                 time    author  \\\n",
       "0        1  /post-free-2839539-1.shtml  2012-10-24 12:41:00  74341835   \n",
       "1        1  /post-free-2839539-1.shtml  2012-10-24 13:26:06  74422795   \n",
       "2        1  /post-free-2839539-1.shtml  2012-10-24 14:02:37  15068828   \n",
       "3        1  /post-free-2839539-1.shtml  2012-10-25 14:25:31  75446299   \n",
       "4        1  /post-free-2839539-1.shtml  2012-10-25 14:49:59  18135446   \n",
       "\n",
       "     author_name                                              reply  \n",
       "0        无上卫士ABC  2012-10-24 10:42:47　来源: 人民网(北京)　　　核心提示：10月初，宁波...  \n",
       "1         16号渔政船                                    对，当官的住两年试试我们就信了  \n",
       "2     fossil2918           广大网民理性表达网络民意，不传播、不轻信网上不实信息，共同维护社会和谐稳定大局。  \n",
       "3      一言难尽XCSTZ                                                这样啊  \n",
       "4  owekoker07298                                                 关注  "
      ]
     },
     "execution_count": 111,
     "metadata": {},
     "output_type": "execute_result"
    }
   ],
   "source": [
    "dt=dt.rename(columns = {0:'page_num', 1:'link', 2:'time', 3:'author',4:'author_name', 5:'reply'})\n",
    "dt[:5]"
   ]
  },
  {
   "cell_type": "code",
   "execution_count": 112,
   "metadata": {
    "ExecuteTime": {
     "end_time": "2017-05-13T15:44:18.404574",
     "start_time": "2017-05-13T15:44:18.393949"
    }
   },
   "outputs": [
    {
     "data": {
      "text/plain": [
       "0     2012-10-24 10:42:47　来源: 人民网(北京)　　　核心提示：10月初，宁波...\n",
       "1                                       对，当官的住两年试试我们就信了\n",
       "2              广大网民理性表达网络民意，不传播、不轻信网上不实信息，共同维护社会和谐稳定大局。\n",
       "3                                                   这样啊\n",
       "4                                                    关注\n",
       "5     水浒一块钱一本买一送三　　水浒一块钱一本买一送三　　水浒一块钱一本买一送三　　水浒一块钱一本...\n",
       "6                                        我们不要化工，我们要净土！！\n",
       "7                             我在八卦发的帖子被封口，不能留言，连看都不能看！！\n",
       "8     @想吃甜枣 22楼 　　PX，请你滚出宁波！！　　---------------------...\n",
       "9     @fossil2918 3楼 　　广大网民理性表达网络民意，不传播、不轻信网上不实信息，共同...\n",
       "10            政府引进这种类似项目，我们知情么？有选择么？不过日本人侵华，也不会经过中国人同意…\n",
       "11    镇海中学领导对老师已经下达了禁言令：好好教书上课，其他的不该管的不要管，不该说的不要说，学校...\n",
       "12                               已经禁止镇海私家车开进市区了，违者扣12分！\n",
       "13    回复第54楼(作者:@小桃子mama 于 2012-10-26 10:07) 　　作者：一笑...\n",
       "14                      宁波人过几年要绝种了，水和空气都是有毒的，生出来的孩子崎形的。\n",
       "15                                       江苏上支持你们一定要抗争到底\n",
       "16                                            光上网叫唤有鸡吧用\n",
       "17                                            湖北人民发来贺电！\n",
       "18                             让市委书记和市长大人全家住那边去，不然别说无污染\n",
       "19                                人民日报有那样好麽？狄大人都懒得看~看你妹\n",
       "20    在中国有一个最凶残的人，名叫活活，因为我们常看到或听到：活活把人打死了、活活把人逼死了、活活...\n",
       "21                                              黑龙江人民帮顶\n",
       "22                                             云南人民支持你们\n",
       "23                                                  继续顶\n",
       "24                                             江苏人民支持你们\n",
       "25    回复第107楼(作者:@ca陈清 于 2012-10-26 22:36) 　　镇海中学领导对...\n",
       "26                                            这个国家已经死亡了\n",
       "27                                                   顶起\n",
       "28    邪教主: @中国黑老大-宁波美黑：25晚上九点半镇海一辆开奔驰的男子与民众冲突，他语无伦次的...\n",
       "29                                                     \n",
       "                            ...                        \n",
       "70                                                顶顶更健康\n",
       "71                                                感谢蛋炒饭\n",
       "72                                                 mark\n",
       "73                                                     \n",
       "74                                                     \n",
       "75                                                    顶\n",
       "76                                                  宁波？\n",
       "77                                             天涯也没节操了~\n",
       "78                                                    ！\n",
       "79                                                    顶\n",
       "80    回复第104楼，@自己做饭好　　@想吃甜枣 22楼 　　PX，请你滚出宁波！！　　-----...\n",
       "81                                        我们要的是健康，人权在哪里\n",
       "82                                        PX滚出宁波！！！！！！！\n",
       "83    @purepoem001 148楼 　　我很奇怪，为啥不把这种剧毒化工项目搬到沙漠无人区里呢...\n",
       "84                                             DDDDDDDD\n",
       "85    @shchdlyl 75楼 　　顶起　　我们不想闹事,我们不想和ZF对抗,更不想被国家机器碾...\n",
       "86    @yao1000 2012-10-26 12:39:10　　谁他妈引进的项目，我们需要为他立...\n",
       "87                                                     \n",
       "88                                                     \n",
       "89    这是从三年前开始酝酿的事情，对外协商融资等早就开始了，只是开始不说，现在万事俱备开始动工了才...\n",
       "90                                               拿什么爱你？\n",
       "91                                                     \n",
       "92                                                  顶一个\n",
       "93                                                   顶起\n",
       "94    根据百度百科收录，PX是对二甲苯（Paraxylene）的简称，和苯、甲苯一样属于芳烃物质，...\n",
       "95    二、真相还原      根据百度百科收录，PX是对二甲苯（Paraxylene）的简称，和苯...\n",
       "96                                                顶！！！！\n",
       "97    回复第203楼，@河蟹的传说　　@yao1000 2012-10-26 12:39:10 　...\n",
       "98    没有人是座孤岛　　独自一人　　每个人都是一座大陆的一片　　是大地的一部份　　如果一小块泥土被...\n",
       "99                                            和谐社会花似jin\n",
       "Name: reply, dtype: object"
      ]
     },
     "execution_count": 112,
     "metadata": {},
     "output_type": "execute_result"
    }
   ],
   "source": [
    "dt.reply[:100]"
   ]
  },
  {
   "cell_type": "markdown",
   "metadata": {
    "slideshow": {
     "slide_type": "slide"
    }
   },
   "source": [
    "## 总帖数是多少？"
   ]
  },
  {
   "cell_type": "markdown",
   "metadata": {
    "slideshow": {
     "slide_type": "fragment"
    }
   },
   "source": [
    "http://search.tianya.cn/bbs?q=PX  共有18459 条内容"
   ]
  },
  {
   "cell_type": "code",
   "execution_count": 93,
   "metadata": {
    "ExecuteTime": {
     "end_time": "2017-05-13T15:08:48.209449",
     "start_time": "2017-05-13T15:08:48.205365"
    },
    "slideshow": {
     "slide_type": "fragment"
    }
   },
   "outputs": [
    {
     "data": {
      "text/plain": [
       "369"
      ]
     },
     "execution_count": 93,
     "metadata": {},
     "output_type": "execute_result"
    }
   ],
   "source": [
    "18459/50"
   ]
  },
  {
   "cell_type": "markdown",
   "metadata": {
    "slideshow": {
     "slide_type": "fragment"
    }
   },
   "source": [
    "实际上到第10页就没有了 http://bbs.tianya.cn/list.jsp?item=free&order=1&nextid=9&k=PX, 原来那只是天涯论坛，还有其它各种版块，如天涯聚焦：  http://focus.tianya.cn/  等等。\n",
    "\n",
    "- 娱乐八卦 512\n",
    "- 股市论坛 187\n",
    "- 情感天地 242\n",
    "- 天涯杂谈 1768 "
   ]
  },
  {
   "cell_type": "markdown",
   "metadata": {
    "slideshow": {
     "slide_type": "fragment"
    }
   },
   "source": [
    "在天涯杂谈搜索雾霾，有41页 http://bbs.tianya.cn/list.jsp?item=free&order=20&nextid=40&k=%E9%9B%BE%E9%9C%BE"
   ]
  },
  {
   "cell_type": "markdown",
   "metadata": {
    "slideshow": {
     "slide_type": "slide"
    }
   },
   "source": [
    "# 天涯SDK"
   ]
  },
  {
   "cell_type": "markdown",
   "metadata": {
    "slideshow": {
     "slide_type": "fragment"
    }
   },
   "source": [
    "http://open.tianya.cn/wiki/index.php?title=SDK%E4%B8%8B%E8%BD%BD"
   ]
  },
  {
   "cell_type": "code",
   "execution_count": null,
   "metadata": {
    "collapsed": true
   },
   "outputs": [],
   "source": []
  }
 ],
 "metadata": {
  "celltoolbar": "Slideshow",
  "kernelspec": {
   "display_name": "Python [conda env:anaconda]",
   "language": "python",
   "name": "conda-env-anaconda-py"
  },
  "language_info": {
   "codemirror_mode": {
    "name": "ipython",
    "version": 3
   },
   "file_extension": ".py",
   "mimetype": "text/x-python",
   "name": "python",
   "nbconvert_exporter": "python",
   "pygments_lexer": "ipython3",
   "version": "3.5.2"
  },
  "latex_envs": {
   "bibliofile": "biblio.bib",
   "cite_by": "apalike",
   "current_citInitial": 1,
   "eqLabelWithNumbers": true,
   "eqNumInitial": 0
  },
  "toc": {
   "toc_cell": false,
   "toc_number_sections": false,
   "toc_section_display": "none",
   "toc_threshold": 6,
   "toc_window_display": true
  }
 },
 "nbformat": 4,
 "nbformat_minor": 1
}
