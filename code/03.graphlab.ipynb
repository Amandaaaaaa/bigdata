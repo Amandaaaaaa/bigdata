{
 "cells": [
  {
   "cell_type": "markdown",
   "metadata": {
    "slideshow": {
     "slide_type": "slide"
    }
   },
   "source": [
    "\n",
    "***\n",
    "***\n",
    "# Graphlab 安装与使用\n",
    "***\n",
    "***\n",
    "\n",
    "王成军\n",
    "\n",
    "wangchengjun@nju.edu.cn\n",
    "\n",
    "计算传播网 http://computational-communication.com"
   ]
  },
  {
   "cell_type": "markdown",
   "metadata": {
    "slideshow": {
     "slide_type": "slide"
    }
   },
   "source": [
    "# Problem\n",
    "\n",
    "只有低版本的anaconda才可以安装，强行安装还会破坏掉anaconda的jupyter notebook中的kernel，排除使用anaconda运行graphlab的方案。\n"
   ]
  },
  {
   "cell_type": "markdown",
   "metadata": {
    "slideshow": {
     "slide_type": "slide"
    }
   },
   "source": [
    "# Register for Academic Use of GraphLab Create\n",
    "\n",
    "https://turi.com/download/academic.html"
   ]
  },
  {
   "cell_type": "markdown",
   "metadata": {
    "slideshow": {
     "slide_type": "slide"
    }
   },
   "source": [
    "## 查邮件\n",
    "\n",
    "https://turi.com/download/install-graphlab-create.html?email=wangchengjun%40nju.edu.cn&key=4972-65DF-8E02-816C-AB15-021C-EC1B-0367&utm_medium=email&utm_source=transactional&utm_campaign=beta_registration_confirmation"
   ]
  },
  {
   "cell_type": "markdown",
   "metadata": {
    "slideshow": {
     "slide_type": "slide"
    }
   },
   "source": [
    "# Renew Academic License for GraphLab Create\n",
    "\n",
    "https://turi.com/download/renew.html"
   ]
  },
  {
   "cell_type": "markdown",
   "metadata": {
    "slideshow": {
     "slide_type": "fragment"
    }
   },
   "source": [
    "# Open a terminal and input:\n",
    "\n",
    "pip install --upgrade --no-cache-dir https://get.graphlab.com/GraphLab-Create/2.1/wangchengjun@nju.edu.cn/4972-65DF-8E02-816C-AB15-021C-EC1B-0367/GraphLab-Create-License.tar.gz\n"
   ]
  },
  {
   "cell_type": "markdown",
   "metadata": {
    "slideshow": {
     "slide_type": "slide"
    }
   },
   "source": [
    "\n",
    "# 使用方法\n",
    "\n",
    "https://turi.com/learn/userguide/\n",
    "\n",
    "GraphLab Create is a Python package that allows programmers to perform end-to-end large-scale data analysis and data product development.\n",
    "\n",
    "- Data ingestion and cleaning with SFrames. SFrame is an efficient disk-based tabular data structure that is not limited by RAM. This lets you scale your analysis and data processing to handle terabytes of data, even on your laptop.\n",
    "\n",
    "- Data exploration and visualization with GraphLab Canvas. GraphLab Canvas is a browser-based interactive GUI that allows you to explore tabular data, summary plots and statistics.\n",
    "\n",
    "- Network analysis with SGraph. SGraph is a disk-based graph data structure that stores vertices and edges in SFrames.\n",
    "\n",
    "- Predictive model development with machine learning toolkits. GraphLab Create includes several toolkits for quick prototyping with fast, scalable algorithms.\n",
    "\n",
    "- Production automation with data pipelines. Data pipelines allow you to assemble reusable code tasks into jobs and automatically run them on common execution environments (e.g. Amazon Web Services, Hadoop)."
   ]
  },
  {
   "cell_type": "code",
   "execution_count": 1,
   "metadata": {
    "ExecuteTime": {
     "end_time": "2017-05-13T09:39:05.313045",
     "start_time": "2017-05-13T09:38:57.997451"
    },
    "collapsed": false,
    "slideshow": {
     "slide_type": "slide"
    }
   },
   "outputs": [
    {
     "name": "stdout",
     "output_type": "stream",
     "text": [
      "This non-commercial license of GraphLab Create for academic use is assigned to wangchengjun@nju.edu.cn and will expire on May 12, 2018.\n"
     ]
    },
    {
     "name": "stderr",
     "output_type": "stream",
     "text": [
      "2017-05-13 09:39:05,184 [INFO] graphlab.cython.cy_server, 176: GraphLab Create v1.8.5 started. Logging: /tmp/graphlab_server_1494639542.log\n"
     ]
    },
    {
     "name": "stdout",
     "output_type": "stream",
     "text": [
      "SGraph({'num_edges': 1, 'num_vertices': 3})\n"
     ]
    }
   ],
   "source": [
    "from graphlab import SGraph, Vertex, Edge\n",
    "g = SGraph()\n",
    "verts = [Vertex(0, attr={'breed': 'labrador'}),\n",
    "         Vertex(1, attr={'breed': 'labrador'}),\n",
    "         Vertex(2, attr={'breed': 'vizsla'})]\n",
    "g = g.add_vertices(verts)\n",
    "g = g.add_edges(Edge(1, 2))\n",
    "print g"
   ]
  },
  {
   "cell_type": "code",
   "execution_count": 2,
   "metadata": {
    "ExecuteTime": {
     "end_time": "2017-05-13T09:40:34.479326",
     "start_time": "2017-05-13T09:40:32.329557"
    },
    "collapsed": false,
    "slideshow": {
     "slide_type": "slide"
    }
   },
   "outputs": [
    {
     "data": {
      "text/html": [
       "<pre>Downloading https://static.turi.com/datasets/bond/bond_edges.csv to /var/tmp/graphlab-chengjun/1639/612e8dcc-808c-42a4-88a7-db404a886ba1.csv</pre>"
      ],
      "text/plain": [
       "Downloading https://static.turi.com/datasets/bond/bond_edges.csv to /var/tmp/graphlab-chengjun/1639/612e8dcc-808c-42a4-88a7-db404a886ba1.csv"
      ]
     },
     "metadata": {},
     "output_type": "display_data"
    },
    {
     "data": {
      "text/html": [
       "<pre>Finished parsing file https://static.turi.com/datasets/bond/bond_edges.csv</pre>"
      ],
      "text/plain": [
       "Finished parsing file https://static.turi.com/datasets/bond/bond_edges.csv"
      ]
     },
     "metadata": {},
     "output_type": "display_data"
    },
    {
     "data": {
      "text/html": [
       "<pre>Parsing completed. Parsed 20 lines in 0.021742 secs.</pre>"
      ],
      "text/plain": [
       "Parsing completed. Parsed 20 lines in 0.021742 secs."
      ]
     },
     "metadata": {},
     "output_type": "display_data"
    },
    {
     "name": "stdout",
     "output_type": "stream",
     "text": [
      "------------------------------------------------------\n",
      "Inferred types from first line of file as \n",
      "column_type_hints=[str,str,str]\n",
      "If parsing fails due to incorrect types, you can correct\n",
      "the inferred type list above and pass it to read_csv in\n",
      "the column_type_hints argument\n",
      "------------------------------------------------------\n"
     ]
    },
    {
     "data": {
      "text/html": [
       "<pre>Finished parsing file https://static.turi.com/datasets/bond/bond_edges.csv</pre>"
      ],
      "text/plain": [
       "Finished parsing file https://static.turi.com/datasets/bond/bond_edges.csv"
      ]
     },
     "metadata": {},
     "output_type": "display_data"
    },
    {
     "data": {
      "text/html": [
       "<pre>Parsing completed. Parsed 20 lines in 0.007772 secs.</pre>"
      ],
      "text/plain": [
       "Parsing completed. Parsed 20 lines in 0.007772 secs."
      ]
     },
     "metadata": {},
     "output_type": "display_data"
    },
    {
     "name": "stdout",
     "output_type": "stream",
     "text": [
      "SGraph({'num_edges': 20, 'num_vertices': 10})\n"
     ]
    }
   ],
   "source": [
    "from graphlab import SFrame\n",
    "edge_data = SFrame.read_csv(\n",
    "    'https://static.turi.com/datasets/bond/bond_edges.csv')\n",
    "\n",
    "g = SGraph()\n",
    "g = g.add_edges(edge_data, src_field='src', dst_field='dst')\n",
    "print g"
   ]
  },
  {
   "cell_type": "code",
   "execution_count": 3,
   "metadata": {
    "ExecuteTime": {
     "end_time": "2017-05-13T09:40:42.615740",
     "start_time": "2017-05-13T09:40:41.014215"
    },
    "collapsed": false,
    "slideshow": {
     "slide_type": "subslide"
    }
   },
   "outputs": [
    {
     "data": {
      "text/html": [
       "<pre>Downloading https://static.turi.com/datasets/bond/bond_vertices.csv to /var/tmp/graphlab-chengjun/1639/be40440c-c4eb-45f1-ae71-501011acc59f.csv</pre>"
      ],
      "text/plain": [
       "Downloading https://static.turi.com/datasets/bond/bond_vertices.csv to /var/tmp/graphlab-chengjun/1639/be40440c-c4eb-45f1-ae71-501011acc59f.csv"
      ]
     },
     "metadata": {},
     "output_type": "display_data"
    },
    {
     "data": {
      "text/html": [
       "<pre>Finished parsing file https://static.turi.com/datasets/bond/bond_vertices.csv</pre>"
      ],
      "text/plain": [
       "Finished parsing file https://static.turi.com/datasets/bond/bond_vertices.csv"
      ]
     },
     "metadata": {},
     "output_type": "display_data"
    },
    {
     "data": {
      "text/html": [
       "<pre>Parsing completed. Parsed 10 lines in 0.010129 secs.</pre>"
      ],
      "text/plain": [
       "Parsing completed. Parsed 10 lines in 0.010129 secs."
      ]
     },
     "metadata": {},
     "output_type": "display_data"
    },
    {
     "name": "stdout",
     "output_type": "stream",
     "text": [
      "------------------------------------------------------\n",
      "Inferred types from first line of file as \n",
      "column_type_hints=[str,str,int,int]\n",
      "If parsing fails due to incorrect types, you can correct\n",
      "the inferred type list above and pass it to read_csv in\n",
      "the column_type_hints argument\n",
      "------------------------------------------------------\n"
     ]
    },
    {
     "data": {
      "text/html": [
       "<pre>Finished parsing file https://static.turi.com/datasets/bond/bond_vertices.csv</pre>"
      ],
      "text/plain": [
       "Finished parsing file https://static.turi.com/datasets/bond/bond_vertices.csv"
      ]
     },
     "metadata": {},
     "output_type": "display_data"
    },
    {
     "data": {
      "text/html": [
       "<pre>Parsing completed. Parsed 10 lines in 0.0082 secs.</pre>"
      ],
      "text/plain": [
       "Parsing completed. Parsed 10 lines in 0.0082 secs."
      ]
     },
     "metadata": {},
     "output_type": "display_data"
    }
   ],
   "source": [
    "vertex_data = SFrame.read_csv('https://static.turi.com/datasets/bond/bond_vertices.csv')\n",
    "\n",
    "g = SGraph(vertices=vertex_data, edges=edge_data, vid_field='name',\n",
    "           src_field='src', dst_field='dst')"
   ]
  },
  {
   "cell_type": "code",
   "execution_count": 4,
   "metadata": {
    "ExecuteTime": {
     "end_time": "2017-05-13T09:41:08.985319",
     "start_time": "2017-05-13T09:41:08.822257"
    },
    "collapsed": false,
    "slideshow": {
     "slide_type": "subslide"
    }
   },
   "outputs": [
    {
     "name": "stdout",
     "output_type": "stream",
     "text": [
      "Canvas is accessible via web browser at the URL: http://localhost:53439/index.html\n",
      "Opening Canvas in default web browser.\n"
     ]
    }
   ],
   "source": [
    "g.show(vlabel='id', highlight=['James Bond', 'Moneypenny'], \\\n",
    "       arrows=True)"
   ]
  },
  {
   "cell_type": "markdown",
   "metadata": {
    "slideshow": {
     "slide_type": "slide"
    }
   },
   "source": [
    "# 阅读材料\n",
    "- https://turi.com/learn/userguide/\n"
   ]
  }
 ],
 "metadata": {
  "celltoolbar": "Slideshow",
  "kernelspec": {
   "display_name": "Python 2",
   "language": "python",
   "name": "python2"
  },
  "language_info": {
   "codemirror_mode": {
    "name": "ipython",
    "version": 2
   },
   "file_extension": ".py",
   "mimetype": "text/x-python",
   "name": "python",
   "nbconvert_exporter": "python",
   "pygments_lexer": "ipython2",
   "version": "2.7.12"
  },
  "latex_envs": {
   "bibliofile": "biblio.bib",
   "cite_by": "apalike",
   "current_citInitial": 1,
   "eqLabelWithNumbers": true,
   "eqNumInitial": 0
  },
  "toc": {
   "toc_cell": false,
   "toc_number_sections": false,
   "toc_section_display": "none",
   "toc_threshold": 6,
   "toc_window_display": true
  }
 },
 "nbformat": 4,
 "nbformat_minor": 0
}
